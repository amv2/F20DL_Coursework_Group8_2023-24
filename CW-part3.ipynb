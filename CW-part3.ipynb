{
 "cells": [
  {
   "cell_type": "markdown",
   "metadata": {},
   "source": [
    "# F20DL Coursework Group 8 2023-24"
   ]
  },
  {
   "cell_type": "markdown",
   "metadata": {},
   "source": [
    "### Group 8 Members:\n",
    "- Madihah Anaum\n",
    "- Tanisha Kasar\n",
    "- Sneha Sunny\n",
    "- Dhruv Raghu\n",
    "- Moses Varghese"
   ]
  },
  {
   "cell_type": "markdown",
   "metadata": {},
   "source": [
    "# Part 3. Supervised Learning: Generalisation & Overfitting; Decision Trees"
   ]
  },
  {
   "cell_type": "markdown",
   "metadata": {},
   "source": [
    "## Content\n",
    "- Coursework Title"
   ]
  },
  {
   "cell_type": "code",
   "execution_count": 3,
   "metadata": {},
   "outputs": [],
   "source": [
    "# import basic libaries\n",
    "import numpy as np\n",
    "import pandas as pd\n",
    "\n",
    "# libraries for data visualization\n",
    "import matplotlib.pyplot as plt\n",
    "\n",
    "import cv2"
   ]
  },
  {
   "cell_type": "code",
   "execution_count": 4,
   "metadata": {},
   "outputs": [],
   "source": [
    "import warnings\n",
    "warnings.filterwarnings('ignore')"
   ]
  },
  {
   "cell_type": "code",
   "execution_count": 5,
   "metadata": {},
   "outputs": [],
   "source": [
    "# read the coursework data set\n",
    "X_train = pd.read_csv(\"/Users/dhruv/Documents/Y4S1/F20DL/Traffic_Sign/CompleteDataSet/x_train_all.csv\")\n",
    "y_train = pd.read_csv(\"/Users/dhruv/Documents/Y4S1/F20DL/Traffic_Sign/CompleteDataSet/y_train_all.csv\")\n",
    "\n",
    "X_test = pd.read_csv(\"/Users/dhruv/Documents/Y4S1/F20DL/Traffic_Sign/CompleteDataSet/x_test_all.csv\")\n",
    "y_test = pd.read_csv(\"/Users/dhruv/Documents/Y4S1/F20DL/Traffic_Sign/CompleteDataSet/y_test_all.csv\")"
   ]
  },
  {
   "cell_type": "code",
   "execution_count": 6,
   "metadata": {},
   "outputs": [
    {
     "data": {
      "image/png": "[encoded data removed]",
      "text/plain": [
       "<Figure size 1500x500 with 2 Axes>"
      ]
     },
     "metadata": {},
     "output_type": "display_data"
    }
   ],
   "source": [
    "# class distribution\n",
    "plt.figure(figsize=(15, 5))\n",
    "plt.subplot(1, 2, 1)\n",
    "plt.hist(y_train, bins=50)\n",
    "plt.title(\"Train Set\")\n",
    "plt.subplot(1, 2, 2)\n",
    "plt.hist(y_test, bins=43)\n",
    "plt.title(\"Test Set\")\n",
    "plt.show() "
   ]
  },
  {
   "cell_type": "code",
   "execution_count": 7,
   "metadata": {},
   "outputs": [
    {
     "name": "stdout",
     "output_type": "stream",
     "text": [
      "(9690, 2304)\n",
      "(9690, 1)\n",
      "(3090, 2304)\n",
      "(3090, 1)\n"
     ]
    }
   ],
   "source": [
    "print(X_train.shape)\n",
    "print(y_train.shape)\n",
    "print(X_test.shape)\n",
    "print(y_test.shape)"
   ]
  },
  {
   "cell_type": "code",
   "execution_count": 8,
   "metadata": {},
   "outputs": [
    {
     "name": "stdout",
     "output_type": "stream",
     "text": [
      "0\n",
      "0\n",
      "0\n",
      "0\n"
     ]
    }
   ],
   "source": [
    "print(X_train.isnull().sum().sum())\n",
    "print(y_train.isnull().sum().sum())\n",
    "print(X_test.isnull().sum().sum())\n",
    "print(y_test.isnull().sum().sum())"
   ]
  },
  {
   "cell_type": "markdown",
   "metadata": {},
   "source": [
    "## Decision Trees using only Train Dataset"
   ]
  },
  {
   "cell_type": "code",
   "execution_count": 14,
   "metadata": {},
   "outputs": [
    {
     "name": "stdout",
     "output_type": "stream",
     "text": [
      "(9690, 2304)\n",
      "(9690, 1)\n",
      "(3090, 2304)\n",
      "(3090, 1)\n"
     ]
    }
   ],
   "source": [
    "from sklearn.tree import DecisionTreeClassifier\n",
    "from sklearn.model_selection import train_test_split\n",
    "\n",
    "X_train1, X_test1, y_train1, y_test1 = train_test_split(X_train, y_train, train_size=0.3, stratify=y_train, random_state=42)\n",
    "\n",
    "# Create Decision Tree classifer object\n",
    "dt = DecisionTreeClassifier(random_state=42)\n",
    "\n",
    "# Train Decision Tree Classifer\n",
    "dt.fit(X_train1,y_train1)\n",
    "\n",
    "#Predict the response for test dataset\n",
    "y_pred_dt = dt.predict(X_test1)\n",
    "\n",
    "print(X_train.shape)\n",
    "print(y_train.shape)\n",
    "print(X_test.shape)\n",
    "print(y_test.shape)"
   ]
  },
  {
   "cell_type": "code",
   "execution_count": 11,
   "metadata": {},
   "outputs": [],
   "source": [
    "from sklearn.metrics import accuracy_score, precision_score, recall_score, f1_score, classification_report, confusion_matrix\n",
    "\n",
    "# create a custom function for getting metrics for each class\n",
    "def class_metrics(y_test, y_pred, algorithm='<Alg Name>'):\n",
    "    conf_matrix = confusion_matrix(y_test, y_pred)\n",
    "\n",
    "    num_classes = len(conf_matrix)\n",
    "\n",
    "    # create a table of comparison comapring the accuracy, precision, true positive rate, false positive rate and f1 score for each class and then the entire model\n",
    "    metrics = pd.DataFrame(columns=['Precision', 'Recall', 'FP Rate', 'F1 Score'])\n",
    "\n",
    "    tp_sum = 0\n",
    "    fn_sum = 0\n",
    "    fp_sum = 0\n",
    "    tn_sum = 0\n",
    "\n",
    "    for i in range(num_classes):\n",
    "        # Calculate metrics for the current class\n",
    "        tp = conf_matrix[i, i]\n",
    "        fn = conf_matrix[i, :].sum() - tp\n",
    "        fp = conf_matrix[:, i].sum() - tp\n",
    "        tn = conf_matrix.sum() - (tp + fn + fp)\n",
    "\n",
    "        tp_sum += tp\n",
    "        fn_sum += fn\n",
    "        fp_sum += fp\n",
    "        tn_sum += tn\n",
    "\n",
    "        precision = tp/(tp+fp)\n",
    "        recall = tp/(tp+fn)\n",
    "        fp_rate = fp/(fp+tn)\n",
    "        f_measure = 2*precision*recall/(precision+recall)\n",
    "\n",
    "        metrics.loc[i] = [precision, recall, fp_rate, f_measure]\n",
    "        \n",
    "    metrics.index = ['Class '+str(i) for i in range(num_classes)]\n",
    "\n",
    "    return metrics"
   ]
  },
  {
   "cell_type": "code",
   "execution_count": 12,
   "metadata": {},
   "outputs": [],
   "source": [
    "# function to get overall metrics\n",
    "def overall_metrics(y_test, y_pred, algorithm='<Alg Name>'):\n",
    "    conf_matrix = confusion_matrix(y_test, y_pred)\n",
    "\n",
    "    num_classes = len(conf_matrix)\n",
    "    \n",
    "    tp_sum = 0\n",
    "    fn_sum = 0\n",
    "    fp_sum = 0\n",
    "    tn_sum = 0\n",
    "\n",
    "    metrics = pd.DataFrame(columns=['Accuracy', 'Precision', 'Recall', 'FP Rate', 'F1 Score'])\n",
    "\n",
    "    for i in range(num_classes):\n",
    "        # Calculate metrics for the current class\n",
    "        tp = conf_matrix[i, i]\n",
    "        fn = conf_matrix[i, :].sum() - tp\n",
    "        fp = conf_matrix[:, i].sum() - tp\n",
    "        tn = conf_matrix.sum() - (tp + fn + fp)\n",
    "\n",
    "        tp_sum += tp\n",
    "        fn_sum += fn\n",
    "        fp_sum += fp\n",
    "        tn_sum += tn\n",
    "\n",
    "    accuracy = accuracy_score(y_test, y_pred)\n",
    "    precision = precision_score(y_test, y_pred, average='macro')\n",
    "    recall = recall_score(y_test, y_pred, average='macro')\n",
    "    fp_rate = fp_sum/(fp_sum+tn_sum)\n",
    "    f_measure = f1_score(y_test, y_pred, average='macro')\n",
    "\n",
    "    metrics.loc[0] = [accuracy, precision, recall, fp_rate, f_measure]\n",
    "    metrics.index = [algorithm]\n",
    "\n",
    "    return metrics"
   ]
  },
  {
   "cell_type": "code",
   "execution_count": 16,
   "metadata": {},
   "outputs": [
    {
     "name": "stdout",
     "output_type": "stream",
     "text": [
      "Class Metrics\n",
      "         Precision    Recall   FP Rate  F1 Score\n",
      "Class 0   0.496894  0.544218  0.012206  0.519481\n",
      "Class 1   0.754021  0.723938  0.070186  0.738674\n",
      "Class 2   0.753968  0.723810  0.071429  0.738581\n",
      "Class 3   0.744186  0.778116  0.045549  0.760773\n",
      "Class 4   0.751955  0.763348  0.064666  0.757608\n",
      "Class 5   0.573864  0.687075  0.011302  0.625387\n",
      "Class 6   0.573718  0.710317  0.020364  0.634752\n",
      "Class 7   0.690647  0.571429  0.006500  0.625407\n",
      "Class 8   0.672000  0.666667  0.019204  0.669323\n",
      "Class 9   0.627119  0.587302  0.010009  0.606557\n",
      "\n",
      "Overall Metrics\n",
      "               Accuracy  Precision    Recall   FP Rate  F1 Score\n",
      "Decision Tree  0.723868   0.663837  0.675622  0.030681  0.667654\n"
     ]
    }
   ],
   "source": [
    "print('Class Metrics')\n",
    "print(class_metrics(y_test1, y_pred_dt, 'Decision Tree'))\n",
    "print('\\nOverall Metrics')\n",
    "print(overall_metrics(y_test1, y_pred_dt, 'Decision Tree'))"
   ]
  },
  {
   "cell_type": "markdown",
   "metadata": {},
   "source": [
    "## Decision Trees Using 10-Fold Cross-Validation"
   ]
  },
  {
   "cell_type": "markdown",
   "metadata": {},
   "source": [
    "Now you will start working with the provided test data sets.\n",
    " Use Decision trees (the J48 algorithm) on the training set, measure the accuracy. Then measure\n",
    "the accuracy on the training set using 10-fold cross-validation. Record all your findings and explain\n",
    "them. Use the major metrics: accuracy, TP rate, FP rate, precision, recall, F measure, the ROC area if\n",
    "needed."
   ]
  },
  {
   "cell_type": "code",
   "execution_count": 173,
   "metadata": {},
   "outputs": [
    {
     "name": "stdout",
     "output_type": "stream",
     "text": [
      "Class Metrics for Cross Val Predict\n",
      "         Precision    Recall   FP Rate  F1 Score\n",
      "Class 0   0.386473  0.380952  0.013397  0.383693\n",
      "Class 1   0.690603  0.701802  0.093440  0.696157\n",
      "Class 2   0.669543  0.689778  0.102957  0.679510\n",
      "Class 3   0.712627  0.696454  0.047826  0.704448\n",
      "Class 4   0.714729  0.698485  0.071595  0.706513\n",
      "Class 5   0.380567  0.447619  0.016139  0.411379\n",
      "Class 6   0.539726  0.547222  0.018006  0.543448\n",
      "Class 7   0.563380  0.500000  0.009841  0.529801\n",
      "Class 8   0.639279  0.590741  0.019672  0.614052\n",
      "Class 9   0.533088  0.537037  0.013482  0.535055\n",
      "\n",
      "Overall Metrics for Cross Val Predict\n",
      "           Accuracy  Precision    Recall   FP Rate  F1 Score\n",
      "Cross Val  0.663571   0.583001  0.579009  0.037381  0.580406\n"
     ]
    }
   ],
   "source": [
    "# retrain the model using 10 fold cross validation and then test the results\n",
    "from sklearn.model_selection import cross_val_predict, cross_val_score\n",
    "\n",
    "# using cross_val predict\n",
    "y_pred_dt_cv = cross_val_predict(dt, X_train, y_train, cv=10)\n",
    "\n",
    "print('Class Metrics for Cross Val Predict')\n",
    "print(class_metrics(y_train, y_pred_dt_cv, 'Cross Val'))\n",
    "print('\\nOverall Metrics for Cross Val Predict')\n",
    "print(overall_metrics(y_train, y_pred_dt_cv, 'Cross Val'))"
   ]
  },
  {
   "cell_type": "code",
   "execution_count": 80,
   "metadata": {},
   "outputs": [
    {
     "name": "stdout",
     "output_type": "stream",
     "text": [
      "[0.55108359 0.6377709  0.68317853 0.67285862 0.66666667 0.71929825\n",
      " 0.61506708 0.71104231 0.67285862 0.70588235]\n",
      "Accuracy: 0.66 (+/- 0.10)\n"
     ]
    }
   ],
   "source": [
    "# using cross val scores\n",
    "scores = cross_val_score(dt, X_train, y_train, cv=10)\n",
    "print(scores)\n",
    "print(\"Accuracy: %0.2f (+/- %0.2f)\" % (scores.mean(), scores.std() * 2))"
   ]
  },
  {
   "cell_type": "markdown",
   "metadata": {},
   "source": [
    "## Decision Trees Using Train and Test Datasets"
   ]
  },
  {
   "cell_type": "markdown",
   "metadata": {},
   "source": [
    "Repeat the experiment, this time using training and testing data sets instead of the cross\n",
    "validation. That is, build the J48 classifier using the training data set, and test the classifier using the test\n",
    "data set. Note the accuracy. Answer the question: Does the decision tree generalize well to new data?\n",
    "How do you tell?\n"
   ]
  },
  {
   "cell_type": "code",
   "execution_count": 174,
   "metadata": {},
   "outputs": [
    {
     "name": "stdout",
     "output_type": "stream",
     "text": [
      "Class Metrics for Train Test Split\n",
      "         Precision    Recall   FP Rate  F1 Score\n",
      "Class 0   0.271429  0.316667  0.016832  0.292308\n",
      "Class 1   0.721584  0.784722  0.091983  0.751830\n",
      "Class 2   0.763411  0.740000  0.073504  0.751523\n",
      "Class 3   0.673203  0.686667  0.056818  0.679868\n",
      "Class 4   0.726027  0.722727  0.074074  0.724374\n",
      "Class 5   0.432836  0.483333  0.012541  0.456693\n",
      "Class 6   0.461538  0.400000  0.014000  0.428571\n",
      "Class 7   0.272727  0.300000  0.015842  0.285714\n",
      "Class 8   0.571429  0.426667  0.016327  0.488550\n",
      "Class 9   0.647887  0.511111  0.008333  0.571429\n",
      "\n",
      "Overall Metrics for Train Test Split\n",
      "                          Accuracy  Precision    Recall   FP Rate  F1 Score\n",
      "Decision Tree Train Test  0.685437   0.554207  0.537189  0.034951  0.543086\n"
     ]
    }
   ],
   "source": [
    "# Train Decision Tree Classifer\n",
    "dt.fit(X_train,y_train)\n",
    "\n",
    "#Predict the response for test dataset\n",
    "y_pred_dt_tt = dt.predict(X_test)\n",
    "\n",
    "print('Class Metrics for Train Test Split')\n",
    "print(class_metrics(y_test, y_pred_dt_tt, 'Decision Tree Train Test'))\n",
    "print('\\nOverall Metrics for Train Test Split')\n",
    "print(overall_metrics(y_test, y_pred_dt_tt, 'Decision Tree Train Test'))"
   ]
  },
  {
   "cell_type": "markdown",
   "metadata": {},
   "source": [
    "## Preprocessing"
   ]
  },
  {
   "cell_type": "code",
   "execution_count": 18,
   "metadata": {},
   "outputs": [
    {
     "data": {
      "text/plain": [
       "array([[0.30588235, 0.30196078, 0.29803922, ..., 0.38431373, 0.37254902,\n",
       "        0.36862745],\n",
       "       [0.28627451, 0.29411765, 0.30980392, ..., 0.39215686, 0.39607843,\n",
       "        0.39607843],\n",
       "       [0.28235294, 0.29411765, 0.30980392, ..., 0.31372549, 0.34901961,\n",
       "        0.37254902],\n",
       "       ...,\n",
       "       [1.        , 1.        , 1.        , ..., 0.12156863, 0.15294118,\n",
       "        0.16862745],\n",
       "       [1.        , 0.99215686, 1.        , ..., 0.10196078, 0.10196078,\n",
       "        0.09411765],\n",
       "       [0.98823529, 0.74117647, 0.93333333, ..., 0.10196078, 0.07843137,\n",
       "        0.06666667]])"
      ]
     },
     "execution_count": 18,
     "metadata": {},
     "output_type": "execute_result"
    }
   ],
   "source": [
    "# Change values from 0-255 to 0-1\n",
    "X_train_sc = X_train/255\n",
    "X_train_sc = X_train_sc.values\n",
    "X_train_sc"
   ]
  },
  {
   "cell_type": "code",
   "execution_count": 19,
   "metadata": {},
   "outputs": [
    {
     "data": {
      "text/plain": [
       "(9690, 529)"
      ]
     },
     "execution_count": 19,
     "metadata": {},
     "output_type": "execute_result"
    }
   ],
   "source": [
    "# Apply the resize to the entire dataset\n",
    "target_size = 23\n",
    "\n",
    "X_reduced = np.apply_along_axis(\n",
    "    func1d=lambda img: cv2.resize(img.reshape(48, 48), dsize=(target_size, target_size)),\n",
    "    axis=1, arr=X_train_sc).reshape(-1, target_size*target_size)\n",
    "X_reduced.shape"
   ]
  },
  {
   "cell_type": "code",
   "execution_count": 20,
   "metadata": {},
   "outputs": [
    {
     "data": {
      "text/plain": [
       "(9690, 529)"
      ]
     },
     "execution_count": 20,
     "metadata": {},
     "output_type": "execute_result"
    }
   ],
   "source": [
    "from skimage import exposure\n",
    "from skimage.filters import unsharp_mask\n",
    "\n",
    "# convert X_train_reduced to images\n",
    "X_train_reduced = X_reduced.reshape(-1, target_size, target_size)\n",
    "\n",
    "# Function to apply preprocessing\n",
    "def preprocess_image(image):\n",
    "\n",
    "    # Contrast enhancement\n",
    "    p2, p98 = np.percentile(image, (2, 98))\n",
    "    img_rescale = exposure.rescale_intensity(image, in_range=(p2, p98))\n",
    "\n",
    "    # Increase sharpness using unsharp masking\n",
    "    img_sharpened = unsharp_mask(img_rescale, radius=1, amount=50)\n",
    "\n",
    "    return img_sharpened\n",
    "\n",
    "# Apply preprocessing to each image in the dataset\n",
    "preprocessed_images = [preprocess_image(image) for image in X_train_reduced]\n",
    "\n",
    "# Flatten augmented images\n",
    "X_train_aug = np.array(preprocessed_images).reshape(-1, target_size * target_size)\n",
    "X_train_aug.shape"
   ]
  },
  {
   "cell_type": "code",
   "execution_count": 35,
   "metadata": {},
   "outputs": [
    {
     "data": {
      "text/plain": [
       "(3090, 529)"
      ]
     },
     "execution_count": 35,
     "metadata": {},
     "output_type": "execute_result"
    }
   ],
   "source": [
    "# Apply the resize to the entire dataset\n",
    "target_size = 23\n",
    "\n",
    "X_test_reduced = np.apply_along_axis(\n",
    "    func1d=lambda img: cv2.resize(img.reshape(48, 48), dsize=(target_size, target_size)),\n",
    "    axis=1, arr=X_test).reshape(-1, target_size*target_size)\n",
    "X_test_reduced.shape\n",
    "\n",
    "X_test_reduced = X_test_reduced.reshape(-1, target_size, target_size)\n",
    "preprocessed_images = [preprocess_image(image) for image in X_test_reduced]\n",
    "X_test_aug = np.array(preprocessed_images).reshape(-1, target_size * target_size)\n",
    "X_test_aug.shape"
   ]
  },
  {
   "cell_type": "markdown",
   "metadata": {},
   "source": [
    "## Testing after preprocessing"
   ]
  },
  {
   "cell_type": "markdown",
   "metadata": {},
   "source": [
    "#### Train-Test Split"
   ]
  },
  {
   "cell_type": "code",
   "execution_count": 36,
   "metadata": {},
   "outputs": [],
   "source": [
    "dt.fit(X_train_aug,y_train)\n",
    "\n",
    "#Predict the response for test dataset\n",
    "y_pred_pp = dt.predict(X_test_aug)\n"
   ]
  },
  {
   "cell_type": "code",
   "execution_count": 37,
   "metadata": {},
   "outputs": [
    {
     "name": "stdout",
     "output_type": "stream",
     "text": [
      "(3090, 1)\n",
      "(3090,)\n"
     ]
    }
   ],
   "source": [
    "print(y_test.shape)\n",
    "print(y_pred_pp.shape)"
   ]
  },
  {
   "cell_type": "code",
   "execution_count": 38,
   "metadata": {},
   "outputs": [
    {
     "name": "stdout",
     "output_type": "stream",
     "text": [
      "Class Metrics for Random Undersampling\n",
      "         Precision    Recall   FP Rate  F1 Score\n",
      "Class 0   0.615385  0.800000  0.009901  0.695652\n",
      "Class 1   0.852224  0.825000  0.043460  0.838391\n",
      "Class 2   0.828536  0.882667  0.058547  0.854745\n",
      "Class 3   0.776018  0.762222  0.037500  0.769058\n",
      "Class 4   0.924316  0.869697  0.019342  0.896175\n",
      "Class 5   0.731343  0.816667  0.005941  0.771654\n",
      "Class 6   0.615385  0.711111  0.013333  0.659794\n",
      "Class 7   0.487805  0.333333  0.006931  0.396040\n",
      "Class 8   0.738854  0.773333  0.013946  0.755700\n",
      "Class 9   0.785714  0.733333  0.006000  0.758621\n",
      "\n",
      "Overall Metrics for Random Undersampling\n",
      "                            Accuracy  Precision    Recall   FP Rate  F1 Score\n",
      "Decision Tree Preprocessed  0.820712   0.735558  0.750736  0.019921  0.739583\n"
     ]
    }
   ],
   "source": [
    "print('Class Metrics for Random Undersampling')\n",
    "print(class_metrics(y_test, y_pred_pp, 'Decision Tree Preprocessed'))\n",
    "print('\\nOverall Metrics for Random Undersampling')\n",
    "print(overall_metrics(y_test, y_pred_pp, 'Decision Tree Preprocessed'))"
   ]
  },
  {
   "cell_type": "markdown",
   "metadata": {},
   "source": [
    "#### Cross Validation"
   ]
  },
  {
   "cell_type": "code",
   "execution_count": 203,
   "metadata": {},
   "outputs": [
    {
     "name": "stdout",
     "output_type": "stream",
     "text": [
      "Class Metrics for Cross Val Predict\n",
      "         Precision    Recall   FP Rate  F1 Score\n",
      "Class 0   0.674528  0.680952  0.007278  0.677725\n",
      "Class 1   0.865606  0.881982  0.040696  0.873717\n",
      "Class 2   0.832074  0.880889  0.053763  0.855786\n",
      "Class 3   0.835232  0.780142  0.026208  0.806747\n",
      "Class 4   0.914066  0.902525  0.021790  0.908259\n",
      "Class 5   0.774510  0.752381  0.004852  0.763285\n",
      "Class 6   0.823188  0.788889  0.006538  0.805674\n",
      "Class 7   0.758621  0.733333  0.005926  0.745763\n",
      "Class 8   0.787431  0.788889  0.012568  0.788159\n",
      "Class 9   0.654167  0.581481  0.008811  0.615686\n",
      "\n",
      "Overall Metrics for Cross Val Predict\n",
      "           Accuracy  Precision    Recall   FP Rate  F1 Score\n",
      "Cross Val   0.84324   0.791942  0.777146  0.017418   0.78408\n"
     ]
    }
   ],
   "source": [
    "# retrain the model using 10 fold cross validation and then test the results\n",
    "from sklearn.model_selection import cross_val_predict, cross_val_score\n",
    "\n",
    "# using cross_val predict\n",
    "y_pred_dt_cv = cross_val_predict(dt, X_train_aug, y_train, cv=10)\n",
    "\n",
    "print('Class Metrics for Cross Val Predict')\n",
    "print(class_metrics(y_train, y_pred_dt_cv, 'Cross Val'))\n",
    "print('\\nOverall Metrics for Cross Val Predict')\n",
    "print(overall_metrics(y_train, y_pred_dt_cv, 'Cross Val'))"
   ]
  },
  {
   "cell_type": "code",
   "execution_count": 204,
   "metadata": {},
   "outputs": [
    {
     "name": "stdout",
     "output_type": "stream",
     "text": [
      "[0.83900929 0.84416925 0.83900929 0.85861713 0.84313725 0.85345717\n",
      " 0.8245614  0.84313725 0.81940144 0.86790506]\n",
      "Accuracy: 0.84 (+/- 0.03)\n"
     ]
    }
   ],
   "source": [
    "# using cross val scores\n",
    "scores = cross_val_score(dt, X_train_aug, y_train, cv=10)\n",
    "print(scores)\n",
    "print(\"Accuracy: %0.2f (+/- %0.2f)\" % (scores.mean(), scores.std() * 2))"
   ]
  },
  {
   "cell_type": "markdown",
   "metadata": {},
   "source": [
    "## Decision Tree Parameters and Their Influence"
   ]
  },
  {
   "cell_type": "markdown",
   "metadata": {},
   "source": [
    "Experiment with various decision tree parameters that control the size of the tree. For example:\n",
    "depth of the tree, confidence threshold for pruning, splitting criteria and the minimal number of instances\n",
    "permissible per leaf. Make conclusions about their influence on the classifier's performance."
   ]
  },
  {
   "cell_type": "markdown",
   "metadata": {},
   "source": [
    "#### Max Depth Test"
   ]
  },
  {
   "cell_type": "code",
   "execution_count": 182,
   "metadata": {},
   "outputs": [
    {
     "name": "stdout",
     "output_type": "stream",
     "text": [
      "Overall Metrics for Max Depth 1\n",
      "             Accuracy  Precision    Recall   FP Rate  F1 Score\n",
      "Max Depth 1  0.381553   0.076849  0.168418  0.068716  0.104852\n",
      "\n",
      "\n",
      "Overall Metrics for Max Depth 5\n",
      "             Accuracy  Precision    Recall   FP Rate  F1 Score\n",
      "Max Depth 5  0.748867   0.634455  0.610613  0.027904  0.611387\n",
      "\n",
      "\n",
      "Overall Metrics for Max Depth 10\n",
      "              Accuracy  Precision   Recall   FP Rate  F1 Score\n",
      "Max Depth 10  0.834304   0.761286  0.76485  0.018411  0.754788\n",
      "\n",
      "\n",
      "Overall Metrics for Max Depth 15\n",
      "              Accuracy  Precision    Recall   FP Rate  F1 Score\n",
      "Max Depth 15  0.827184   0.738713  0.759662  0.019202  0.745502\n",
      "\n",
      "\n",
      "Overall Metrics for Max Depth 20\n",
      "              Accuracy  Precision    Recall   FP Rate  F1 Score\n",
      "Max Depth 20  0.820712   0.735558  0.750736  0.019921  0.739583\n",
      "\n",
      "\n",
      "Overall Metrics for Max Depth 25\n",
      "              Accuracy  Precision    Recall   FP Rate  F1 Score\n",
      "Max Depth 25  0.820712   0.735558  0.750736  0.019921  0.739583\n",
      "\n",
      "\n",
      "Overall Metrics for Max Depth 30\n",
      "              Accuracy  Precision    Recall   FP Rate  F1 Score\n",
      "Max Depth 30  0.820712   0.735558  0.750736  0.019921  0.739583\n",
      "\n",
      "\n"
     ]
    },
    {
     "data": {
      "image/png": "[encoded data removed]",
      "text/plain": [
       "<Figure size 640x480 with 1 Axes>"
      ]
     },
     "metadata": {},
     "output_type": "display_data"
    }
   ],
   "source": [
    "test_parameters = [1, 5, 10, 15, 20, 25, 30]\n",
    "accuracies = []\n",
    "\n",
    "for i in test_parameters:\n",
    "    # Create Decision Tree classifer object\n",
    "    dt = DecisionTreeClassifier(max_depth=i, random_state=42)\n",
    "\n",
    "    # Train Decision Tree Classifer\n",
    "    dt.fit(X_train_aug,y_train)\n",
    "\n",
    "    #Predict the response for test dataset\n",
    "    y_pred = dt.predict(X_test_aug)\n",
    "\n",
    "    accuracies.append([i, accuracy_score(y_test, y_pred)])\n",
    "\n",
    "    print('Overall Metrics for Max Depth '+str(i))\n",
    "    print(overall_metrics(y_test, y_pred, 'Max Depth '+str(i)))\n",
    "    print('\\n')\n",
    "\n",
    "# plot accuracy vs max_depth\n",
    "plt.plot(test_parameters, [x[1] for x in accuracies])\n",
    "plt.xlabel('Max Depth')\n",
    "plt.ylabel('Accuracy')\n",
    "plt.title('Accuracy vs Max Depth')\n",
    "plt.show()"
   ]
  },
  {
   "cell_type": "markdown",
   "metadata": {},
   "source": [
    "#### Confidence Threshold Test"
   ]
  },
  {
   "cell_type": "code",
   "execution_count": 183,
   "metadata": {},
   "outputs": [
    {
     "name": "stdout",
     "output_type": "stream",
     "text": [
      "Overall Metrics for Min Samples Split 2\n",
      "                     Accuracy  Precision    Recall   FP Rate  F1 Score\n",
      "Min Samples Split 2  0.820712   0.735558  0.750736  0.019921  0.739583\n",
      "Overall Metrics for Min Samples Split 4\n",
      "                     Accuracy  Precision    Recall   FP Rate  F1 Score\n",
      "Min Samples Split 4  0.825243   0.762627  0.761241  0.019417  0.756333\n",
      "Overall Metrics for Min Samples Split 6\n",
      "                     Accuracy  Precision    Recall   FP Rate  F1 Score\n",
      "Min Samples Split 6  0.830744   0.751415  0.767273  0.018806  0.749183\n",
      "Overall Metrics for Min Samples Split 8\n",
      "                     Accuracy  Precision    Recall   FP Rate  F1 Score\n",
      "Min Samples Split 8  0.828155   0.746457  0.739019  0.019094  0.732706\n",
      "Overall Metrics for Min Samples Split 10\n",
      "                      Accuracy  Precision    Recall   FP Rate  F1 Score\n",
      "Min Samples Split 10  0.832039   0.767805  0.769991  0.018662  0.763843\n",
      "Overall Metrics for Min Samples Split 12\n",
      "                      Accuracy  Precision    Recall   FP Rate  F1 Score\n",
      "Min Samples Split 12   0.83657   0.771236  0.763695  0.018159  0.763055\n",
      "Overall Metrics for Min Samples Split 14\n",
      "                      Accuracy  Precision    Recall  FP Rate  F1 Score\n",
      "Min Samples Split 14  0.841424   0.784018  0.770139  0.01762  0.771157\n",
      "Overall Metrics for Min Samples Split 16\n",
      "                      Accuracy  Precision    Recall   FP Rate  F1 Score\n",
      "Min Samples Split 16  0.844013   0.782741  0.771338  0.017332  0.772561\n",
      "Overall Metrics for Min Samples Split 18\n",
      "                      Accuracy  Precision    Recall   FP Rate  F1 Score\n",
      "Min Samples Split 18  0.844337    0.77746  0.784493  0.017296  0.778089\n",
      "Overall Metrics for Min Samples Split 20\n",
      "                      Accuracy  Precision    Recall   FP Rate  F1 Score\n",
      "Min Samples Split 20  0.841748   0.779219  0.781552  0.017584  0.777748\n"
     ]
    },
    {
     "data": {
      "image/png": "[encoded data removed]",
      "text/plain": [
       "<Figure size 640x480 with 1 Axes>"
      ]
     },
     "metadata": {},
     "output_type": "display_data"
    }
   ],
   "source": [
    "test_parameters = [2, 4, 6, 8, 10, 12, 14, 16, 18, 20]\n",
    "accuracies = []\n",
    "\n",
    "for i in test_parameters:\n",
    "    # Create Decision Tree classifer object\n",
    "    dt = DecisionTreeClassifier(min_samples_split=i, random_state=42)\n",
    "\n",
    "    # Train Decision Tree Classifer\n",
    "    dt.fit(X_train_aug,y_train)\n",
    "\n",
    "    #Predict the response for test dataset\n",
    "    y_pred = dt.predict(X_test_aug)\n",
    "\n",
    "    accuracies.append([i, accuracy_score(y_test, y_pred)])\n",
    "\n",
    "    print('Overall Metrics for Min Samples Split '+str(i))\n",
    "    print(overall_metrics(y_test, y_pred, 'Min Samples Split '+str(i)))\n",
    "\n",
    "# plot accuracy vs min_samples_split\n",
    "plt.plot(test_parameters, [x[1] for x in accuracies])\n",
    "plt.xlabel('Min Samples Split')\n",
    "plt.ylabel('Accuracy')\n",
    "plt.title('Accuracy vs Min Samples Split')\n",
    "plt.show()"
   ]
  },
  {
   "cell_type": "markdown",
   "metadata": {},
   "source": [
    "#### Splitting Criteria Test"
   ]
  },
  {
   "cell_type": "code",
   "execution_count": 186,
   "metadata": {},
   "outputs": [
    {
     "name": "stdout",
     "output_type": "stream",
     "text": [
      "Overall Metrics for Criterion gini\n",
      "                Accuracy  Precision    Recall   FP Rate  F1 Score\n",
      "Criterion gini  0.820712   0.735558  0.750736  0.019921  0.739583\n",
      "Overall Metrics for Criterion entropy\n",
      "                   Accuracy  Precision    Recall   FP Rate  F1 Score\n",
      "Criterion entropy  0.840129   0.757453  0.765939  0.017763  0.754237\n"
     ]
    }
   ],
   "source": [
    "# splitting criteria parameters to test\n",
    "parameters = ['gini', 'entropy']\n",
    "\n",
    "accuracies = []\n",
    "\n",
    "for i in parameters:\n",
    "    # Create Decision Tree classifer object\n",
    "    dt = DecisionTreeClassifier(criterion=i, random_state=42)\n",
    "\n",
    "    # Train Decision Tree Classifer\n",
    "    dt.fit(X_train_aug,y_train)\n",
    "\n",
    "    #Predict the response for test dataset\n",
    "    y_pred = dt.predict(X_test_aug)\n",
    "\n",
    "    accuracies.append([i, accuracy_score(y_test, y_pred)])\n",
    "\n",
    "    print('Overall Metrics for Criterion '+str(i))\n",
    "    print(overall_metrics(y_test, y_pred, 'Criterion '+str(i)))"
   ]
  },
  {
   "cell_type": "markdown",
   "metadata": {},
   "source": [
    "#### Minimim Number of Instances per Leaf Test"
   ]
  },
  {
   "cell_type": "code",
   "execution_count": 187,
   "metadata": {},
   "outputs": [
    {
     "name": "stdout",
     "output_type": "stream",
     "text": [
      "Overall Metrics for Min Samples per Leaf 2\n",
      "                        Accuracy  Precision    Recall   FP Rate  F1 Score\n",
      "Min Samples per Leaf 2   0.82589   0.754323  0.747803  0.019346   0.74136\n",
      "Overall Metrics for Min Samples per Leaf 4\n",
      "                        Accuracy  Precision    Recall   FP Rate  F1 Score\n",
      "Min Samples per Leaf 4  0.834628   0.745757  0.760349  0.018375  0.744799\n",
      "Overall Metrics for Min Samples per Leaf 6\n",
      "                        Accuracy  Precision    Recall   FP Rate  F1 Score\n",
      "Min Samples per Leaf 6  0.845307   0.784263  0.770212  0.017188  0.773318\n",
      "Overall Metrics for Min Samples per Leaf 8\n",
      "                        Accuracy  Precision    Recall   FP Rate  F1 Score\n",
      "Min Samples per Leaf 8  0.842395   0.774573  0.762184  0.017512  0.763295\n",
      "Overall Metrics for Min Samples per Leaf 10\n",
      "                         Accuracy  Precision    Recall  FP Rate  F1 Score\n",
      "Min Samples per Leaf 10  0.843042    0.78172  0.802841  0.01744  0.789882\n",
      "Overall Metrics for Min Samples per Leaf 12\n",
      "                         Accuracy  Precision    Recall   FP Rate  F1 Score\n",
      "Min Samples per Leaf 12  0.844984   0.786455  0.798781  0.017224  0.789099\n",
      "Overall Metrics for Min Samples per Leaf 14\n",
      "                         Accuracy  Precision    Recall   FP Rate  F1 Score\n",
      "Min Samples per Leaf 14  0.835599   0.788731  0.776905  0.018267  0.777895\n"
     ]
    },
    {
     "data": {
      "image/png": "[encoded data removed]",
      "text/plain": [
       "<Figure size 640x480 with 1 Axes>"
      ]
     },
     "metadata": {},
     "output_type": "display_data"
    }
   ],
   "source": [
    "parameters = [2, 4, 6, 8, 10, 12, 14]\n",
    "accuracies = []\n",
    "\n",
    "for i in parameters:\n",
    "    # Create Decision Tree classifer object\n",
    "    dt = DecisionTreeClassifier(min_samples_leaf=i, random_state=42)\n",
    "\n",
    "    # Train Decision Tree Classifer\n",
    "    dt.fit(X_train_aug,y_train)\n",
    "\n",
    "    #Predict the response for test dataset\n",
    "    y_pred = dt.predict(X_test_aug)\n",
    "\n",
    "    accuracies.append([i, accuracy_score(y_test, y_pred)])\n",
    "\n",
    "    print('Overall Metrics for Min Samples per Leaf '+str(i))\n",
    "    print(overall_metrics(y_test, y_pred, 'Min Samples per Leaf '+str(i)))\n",
    "\n",
    "# plot accuracy vs min_impurity_decrease\n",
    "plt.plot(parameters, [x[1] for x in accuracies])\n",
    "plt.xlabel('Min Samples per Leaf')\n",
    "plt.ylabel('Accuracy')\n",
    "plt.title('Accuracy vs Min Samples per Leaf')\n",
    "plt.show()"
   ]
  },
  {
   "cell_type": "code",
   "execution_count": 189,
   "metadata": {},
   "outputs": [
    {
     "name": "stdout",
     "output_type": "stream",
     "text": [
      "Class Metrics for Parameter Tuned Tree\n",
      "         Precision    Recall   FP Rate  F1 Score\n",
      "Class 0   0.675000  0.900000  0.008581  0.771429\n",
      "Class 1   0.881051  0.884722  0.036287  0.882883\n",
      "Class 2   0.832321  0.913333  0.058974  0.870947\n",
      "Class 3   0.800926  0.768889  0.032576  0.784580\n",
      "Class 4   0.957307  0.883333  0.010700  0.918834\n",
      "Class 5   0.870968  0.900000  0.002640  0.885246\n",
      "Class 6   0.696629  0.688889  0.009000  0.692737\n",
      "Class 7   0.735294  0.416667  0.002970  0.531915\n",
      "Class 8   0.779874  0.826667  0.011905  0.802589\n",
      "Class 9   0.772152  0.677778  0.006000  0.721893\n",
      "\n",
      "Overall Metrics for Parameter Tuned Tree\n",
      "                      Accuracy  Precision    Recall   FP Rate  F1 Score\n",
      "Parameter Tuned Tree  0.851456   0.800152  0.786028  0.016505  0.786305\n"
     ]
    }
   ],
   "source": [
    "dt = DecisionTreeClassifier(max_depth=10, min_samples_split=18, criterion='entropy', min_samples_leaf=6, random_state=42)\n",
    "dt.fit(X_train_aug,y_train)\n",
    "y_pred_par = dt.predict(X_test_aug)\n",
    "\n",
    "print('Class Metrics for Parameter Tuned Tree')\n",
    "print(class_metrics(y_test, y_pred_par, 'Paramenter Tuned Tree'))\n",
    "print('\\nOverall Metrics for Parameter Tuned Tree')\n",
    "print(overall_metrics(y_test, y_pred_par, 'Parameter Tuned Tree'))"
   ]
  },
  {
   "cell_type": "markdown",
   "metadata": {},
   "source": [
    "## Test Set 30% Boost"
   ]
  },
  {
   "cell_type": "markdown",
   "metadata": {},
   "source": [
    "Make new training and testing sets, by moving 30% of the instances from the original training\n",
    "set into the testing set. Note the accuracies on the training and the testing sets"
   ]
  },
  {
   "cell_type": "code",
   "execution_count": 192,
   "metadata": {},
   "outputs": [
    {
     "name": "stdout",
     "output_type": "stream",
     "text": [
      "X_train:  (9690, 529)\n",
      "X_test: (3090, 529)\n",
      "New X_train: (6783, 529)\n",
      "New X_test: (5997, 529)\n"
     ]
    }
   ],
   "source": [
    "# remove 30% of instance from X_train and y_train\n",
    "from sklearn.model_selection import train_test_split\n",
    "\n",
    "print('X_train: ', X_train_aug.shape)\n",
    "print('X_test:', X_test_aug.shape)\n",
    "\n",
    "X_train_new, X_test_add, y_train_new, y_test_add = train_test_split(X_train_aug, y_train, test_size=0.3, random_state=42)\n",
    "\n",
    "X_test_30 = X_test_aug\n",
    "y_test_30 = y_test.values\n",
    "# Add X_test_add and y_test_add to X_test and y_test\n",
    "X_test_new = np.concatenate((X_test_30, X_test_add), axis=0)\n",
    "y_test_new = np.concatenate((y_test_30, y_test_add), axis=0)\n",
    "\n",
    "print('New X_train:', X_train_new.shape)\n",
    "print('New X_test:', X_test_new.shape)\n"
   ]
  },
  {
   "cell_type": "code",
   "execution_count": 193,
   "metadata": {},
   "outputs": [
    {
     "name": "stdout",
     "output_type": "stream",
     "text": [
      "         Precision    Recall   FP Rate  F1 Score\n",
      "Class 0   0.745763  0.651852  0.005118  0.695652\n",
      "Class 1   0.879911  0.857040  0.035126  0.868325\n",
      "Class 2   0.833663  0.884454  0.055154  0.858308\n",
      "Class 3   0.763301  0.802511  0.042570  0.782415\n",
      "Class 4   0.910040  0.908581  0.023579  0.909310\n",
      "Class 5   0.790210  0.862595  0.005114  0.824818\n",
      "Class 6   0.815476  0.721053  0.005338  0.765363\n",
      "Class 7   0.691589  0.592000  0.005620  0.637931\n",
      "Class 8   0.824675  0.824675  0.009492  0.824675\n",
      "Class 9   0.796748  0.569767  0.004292  0.664407\n",
      "           Accuracy  Precision    Recall   FP Rate  F1 Score\n",
      "30% Boost  0.842088   0.805138  0.767453  0.017546   0.78312\n"
     ]
    }
   ],
   "source": [
    "dt.fit(X_train_new,y_train_new)\n",
    "y_pred_30 = dt.predict(X_test_new)\n",
    "\n",
    "print(class_metrics(y_test_new, y_pred_30, '30% Boost'))\n",
    "print(overall_metrics(y_test_new, y_pred_30, '30% Boost'))"
   ]
  },
  {
   "cell_type": "markdown",
   "metadata": {},
   "source": [
    "## Test Set 60% Boost"
   ]
  },
  {
   "cell_type": "markdown",
   "metadata": {},
   "source": [
    "Make new training and testing sets, by moving 60% of the instances from the original training\n",
    "set into the testing set. Note the accuracies on the training and the testing sets"
   ]
  },
  {
   "cell_type": "code",
   "execution_count": 194,
   "metadata": {},
   "outputs": [
    {
     "name": "stdout",
     "output_type": "stream",
     "text": [
      "X_train:  (9690, 2304)\n",
      "X_test: (3090, 2304)\n",
      "New X_train: (3876, 529)\n",
      "New X_test: (8904, 529)\n"
     ]
    }
   ],
   "source": [
    "# remove 30% of instance from X_train and y_train\n",
    "from sklearn.model_selection import train_test_split\n",
    "\n",
    "print('X_train: ', X_train.shape)\n",
    "print('X_test:', X_test.shape)\n",
    "\n",
    "X_train_new, X_test_add, y_train_new, y_test_add = train_test_split(X_train_aug, y_train, test_size=0.6, random_state=42)\n",
    "\n",
    "X_test_30 = X_test_aug\n",
    "y_test_30 = y_test.values\n",
    "# Add X_test_add and y_test_add to X_test and y_test\n",
    "X_test_new = np.concatenate((X_test_30, X_test_add), axis=0)\n",
    "y_test_new = np.concatenate((y_test_30, y_test_add), axis=0)\n",
    "\n",
    "print('New X_train:', X_train_new.shape)\n",
    "print('New X_test:', X_test_new.shape)"
   ]
  },
  {
   "cell_type": "code",
   "execution_count": 195,
   "metadata": {},
   "outputs": [
    {
     "name": "stdout",
     "output_type": "stream",
     "text": [
      "         Precision    Recall   FP Rate  F1 Score\n",
      "Class 0   0.617347  0.623711  0.008611  0.620513\n",
      "Class 1   0.833649  0.855545  0.051256  0.844455\n",
      "Class 2   0.821382  0.896584  0.060477  0.857337\n",
      "Class 3   0.821661  0.766717  0.028861  0.793239\n",
      "Class 4   0.900277  0.897294  0.025377  0.898783\n",
      "Class 5   0.887574  0.793651  0.002180  0.837989\n",
      "Class 6   0.733333  0.676375  0.008842  0.703704\n",
      "Class 7   0.626316  0.583333  0.008161  0.604061\n",
      "Class 8   0.854415  0.764957  0.007231  0.807215\n",
      "Class 9   0.781095  0.630522  0.005084  0.697778\n",
      "           Accuracy  Precision    Recall   FP Rate  F1 Score\n",
      "60% Boost   0.83075   0.787705  0.748869  0.018806  0.766507\n"
     ]
    }
   ],
   "source": [
    "dt.fit(X_train_new,y_train_new)\n",
    "y_pred_60 = dt.predict(X_test_new)\n",
    "\n",
    "print(class_metrics(y_test_new, y_pred_60, '60% Boost'))\n",
    "print(overall_metrics(y_test_new, y_pred_60, '60% Boost'))"
   ]
  },
  {
   "cell_type": "markdown",
   "metadata": {},
   "source": [
    "## Discussion on Test Boost Sets and Overfitting"
   ]
  },
  {
   "cell_type": "markdown",
   "metadata": {},
   "source": [
    "Analyse your results from the point of view of the problem of classifier over-fitting. Do you\n",
    "notice the effects of over-fitting? How? Note your conclusions in the Jupyter notebook."
   ]
  },
  {
   "cell_type": "markdown",
   "metadata": {},
   "source": [
    "## Additional Tree Classifier Studies"
   ]
  },
  {
   "cell_type": "markdown",
   "metadata": {},
   "source": [
    "For higher marks, try some other decision tree algorithms (e.g. random forests). Repeat all of the\n",
    "above experiments and make conclusions."
   ]
  },
  {
   "cell_type": "code",
   "execution_count": 197,
   "metadata": {},
   "outputs": [
    {
     "data": {
      "text/html": [
       "<div>\n",
       "<style scoped>\n",
       "    .dataframe tbody tr th:only-of-type {\n",
       "        vertical-align: middle;\n",
       "    }\n",
       "\n",
       "    .dataframe tbody tr th {\n",
       "        vertical-align: top;\n",
       "    }\n",
       "\n",
       "    .dataframe thead th {\n",
       "        text-align: right;\n",
       "    }\n",
       "</style>\n",
       "<table border=\"1\" class=\"dataframe\">\n",
       "  <thead>\n",
       "    <tr style=\"text-align: right;\">\n",
       "      <th></th>\n",
       "      <th>Accuracy</th>\n",
       "      <th>Precision</th>\n",
       "      <th>Recall</th>\n",
       "      <th>FP Rate</th>\n",
       "      <th>F1 Score</th>\n",
       "    </tr>\n",
       "  </thead>\n",
       "  <tbody>\n",
       "    <tr>\n",
       "      <th>Decision Tree</th>\n",
       "      <td>0.851456</td>\n",
       "      <td>0.800152</td>\n",
       "      <td>0.786028</td>\n",
       "      <td>0.016505</td>\n",
       "      <td>0.786305</td>\n",
       "    </tr>\n",
       "  </tbody>\n",
       "</table>\n",
       "</div>"
      ],
      "text/plain": [
       "               Accuracy  Precision    Recall   FP Rate  F1 Score\n",
       "Decision Tree  0.851456   0.800152  0.786028  0.016505  0.786305"
      ]
     },
     "execution_count": 197,
     "metadata": {},
     "output_type": "execute_result"
    }
   ],
   "source": [
    "# 1. DecisionTreeClassifier\n",
    "\n",
    "# Fit the classifier to the training data\n",
    "dt.fit(X_train_aug, y_train)\n",
    "\n",
    "# Make predictions on the test data\n",
    "y_pred_dt = dt.predict(X_test_aug)\n",
    "\n",
    "overall_metrics(y_test, y_pred_dt, 'Decision Tree')"
   ]
  },
  {
   "cell_type": "code",
   "execution_count": 198,
   "metadata": {},
   "outputs": [
    {
     "data": {
      "text/html": [
       "<div>\n",
       "<style scoped>\n",
       "    .dataframe tbody tr th:only-of-type {\n",
       "        vertical-align: middle;\n",
       "    }\n",
       "\n",
       "    .dataframe tbody tr th {\n",
       "        vertical-align: top;\n",
       "    }\n",
       "\n",
       "    .dataframe thead th {\n",
       "        text-align: right;\n",
       "    }\n",
       "</style>\n",
       "<table border=\"1\" class=\"dataframe\">\n",
       "  <thead>\n",
       "    <tr style=\"text-align: right;\">\n",
       "      <th></th>\n",
       "      <th>Accuracy</th>\n",
       "      <th>Precision</th>\n",
       "      <th>Recall</th>\n",
       "      <th>FP Rate</th>\n",
       "      <th>F1 Score</th>\n",
       "    </tr>\n",
       "  </thead>\n",
       "  <tbody>\n",
       "    <tr>\n",
       "      <th>Extra Tree</th>\n",
       "      <td>0.638188</td>\n",
       "      <td>0.511119</td>\n",
       "      <td>0.50349</td>\n",
       "      <td>0.040201</td>\n",
       "      <td>0.504474</td>\n",
       "    </tr>\n",
       "  </tbody>\n",
       "</table>\n",
       "</div>"
      ],
      "text/plain": [
       "            Accuracy  Precision   Recall   FP Rate  F1 Score\n",
       "Extra Tree  0.638188   0.511119  0.50349  0.040201  0.504474"
      ]
     },
     "execution_count": 198,
     "metadata": {},
     "output_type": "execute_result"
    }
   ],
   "source": [
    "# 2. ExtraTreeClassifier\n",
    "from sklearn.tree import ExtraTreeClassifier\n",
    "\n",
    "# Create an ExtraTreeClassifier instance\n",
    "extra_tree_classifier = ExtraTreeClassifier()\n",
    "\n",
    "# Fit the classifier to the training data\n",
    "extra_tree_classifier.fit(X_train_aug, y_train)\n",
    "\n",
    "# Make predictions on the test data\n",
    "y_pred_extra_tree = extra_tree_classifier.predict(X_test_aug)\n",
    "\n",
    "overall_metrics(y_test, y_pred_extra_tree, 'Extra Tree')"
   ]
  },
  {
   "cell_type": "code",
   "execution_count": 199,
   "metadata": {},
   "outputs": [
    {
     "data": {
      "text/html": [
       "<div>\n",
       "<style scoped>\n",
       "    .dataframe tbody tr th:only-of-type {\n",
       "        vertical-align: middle;\n",
       "    }\n",
       "\n",
       "    .dataframe tbody tr th {\n",
       "        vertical-align: top;\n",
       "    }\n",
       "\n",
       "    .dataframe thead th {\n",
       "        text-align: right;\n",
       "    }\n",
       "</style>\n",
       "<table border=\"1\" class=\"dataframe\">\n",
       "  <thead>\n",
       "    <tr style=\"text-align: right;\">\n",
       "      <th></th>\n",
       "      <th>Accuracy</th>\n",
       "      <th>Precision</th>\n",
       "      <th>Recall</th>\n",
       "      <th>FP Rate</th>\n",
       "      <th>F1 Score</th>\n",
       "    </tr>\n",
       "  </thead>\n",
       "  <tbody>\n",
       "    <tr>\n",
       "      <th>Random Forest</th>\n",
       "      <td>0.908091</td>\n",
       "      <td>0.934869</td>\n",
       "      <td>0.819853</td>\n",
       "      <td>0.010212</td>\n",
       "      <td>0.855778</td>\n",
       "    </tr>\n",
       "  </tbody>\n",
       "</table>\n",
       "</div>"
      ],
      "text/plain": [
       "               Accuracy  Precision    Recall   FP Rate  F1 Score\n",
       "Random Forest  0.908091   0.934869  0.819853  0.010212  0.855778"
      ]
     },
     "execution_count": 199,
     "metadata": {},
     "output_type": "execute_result"
    }
   ],
   "source": [
    "# 3. RandomForestClassifier\n",
    "from sklearn.ensemble import RandomForestClassifier\n",
    "\n",
    "# Create a RandomForestClassifier instance\n",
    "rf_classifier = RandomForestClassifier()\n",
    "\n",
    "# Fit the classifier to the training data\n",
    "rf_classifier.fit(X_train_aug, y_train)\n",
    "\n",
    "# Make predictions on the test data\n",
    "y_pred_rf = rf_classifier.predict(X_test_aug)\n",
    "\n",
    "overall_metrics(y_test, y_pred_rf, 'Random Forest')"
   ]
  },
  {
   "cell_type": "code",
   "execution_count": null,
   "metadata": {},
   "outputs": [],
   "source": [
    "# # 4. GradientBoostingClassifier\n",
    "# from sklearn.ensemble import GradientBoostingClassifier\n",
    "\n",
    "# # Create a GradientBoostingClassifier instance\n",
    "# gb_classifier = GradientBoostingClassifier()\n",
    "\n",
    "# # Fit the classifier to the training data\n",
    "# gb_classifier.fit(X_train, y_train)\n",
    "\n",
    "# # Make predictions on the test data\n",
    "# y_pred_gb = gb_classifier.predict(X_test)"
   ]
  },
  {
   "cell_type": "code",
   "execution_count": 200,
   "metadata": {},
   "outputs": [
    {
     "data": {
      "text/html": [
       "<div>\n",
       "<style scoped>\n",
       "    .dataframe tbody tr th:only-of-type {\n",
       "        vertical-align: middle;\n",
       "    }\n",
       "\n",
       "    .dataframe tbody tr th {\n",
       "        vertical-align: top;\n",
       "    }\n",
       "\n",
       "    .dataframe thead th {\n",
       "        text-align: right;\n",
       "    }\n",
       "</style>\n",
       "<table border=\"1\" class=\"dataframe\">\n",
       "  <thead>\n",
       "    <tr style=\"text-align: right;\">\n",
       "      <th></th>\n",
       "      <th>Accuracy</th>\n",
       "      <th>Precision</th>\n",
       "      <th>Recall</th>\n",
       "      <th>FP Rate</th>\n",
       "      <th>F1 Score</th>\n",
       "    </tr>\n",
       "  </thead>\n",
       "  <tbody>\n",
       "    <tr>\n",
       "      <th>AdaBoost</th>\n",
       "      <td>0.576375</td>\n",
       "      <td>0.582336</td>\n",
       "      <td>0.538095</td>\n",
       "      <td>0.047069</td>\n",
       "      <td>0.539542</td>\n",
       "    </tr>\n",
       "  </tbody>\n",
       "</table>\n",
       "</div>"
      ],
      "text/plain": [
       "          Accuracy  Precision    Recall   FP Rate  F1 Score\n",
       "AdaBoost  0.576375   0.582336  0.538095  0.047069  0.539542"
      ]
     },
     "execution_count": 200,
     "metadata": {},
     "output_type": "execute_result"
    }
   ],
   "source": [
    "# 5. AdaBoostClassifier\n",
    "from sklearn.ensemble import AdaBoostClassifier\n",
    "\n",
    "# Create an AdaBoostClassifier instance\n",
    "adaboost_classifier = AdaBoostClassifier()\n",
    "\n",
    "# Fit the classifier to the training data\n",
    "adaboost_classifier.fit(X_train_aug, y_train)\n",
    "\n",
    "# Make predictions on the test data\n",
    "y_pred_adaboost = adaboost_classifier.predict(X_test_aug)\n",
    "\n",
    "overall_metrics(y_test, y_pred_adaboost, 'AdaBoost')"
   ]
  },
  {
   "cell_type": "code",
   "execution_count": 201,
   "metadata": {},
   "outputs": [
    {
     "data": {
      "text/html": [
       "<div>\n",
       "<style scoped>\n",
       "    .dataframe tbody tr th:only-of-type {\n",
       "        vertical-align: middle;\n",
       "    }\n",
       "\n",
       "    .dataframe tbody tr th {\n",
       "        vertical-align: top;\n",
       "    }\n",
       "\n",
       "    .dataframe thead th {\n",
       "        text-align: right;\n",
       "    }\n",
       "</style>\n",
       "<table border=\"1\" class=\"dataframe\">\n",
       "  <thead>\n",
       "    <tr style=\"text-align: right;\">\n",
       "      <th></th>\n",
       "      <th>Accuracy</th>\n",
       "      <th>Precision</th>\n",
       "      <th>Recall</th>\n",
       "      <th>FP Rate</th>\n",
       "      <th>F1 Score</th>\n",
       "    </tr>\n",
       "  </thead>\n",
       "  <tbody>\n",
       "    <tr>\n",
       "      <th>Bagging</th>\n",
       "      <td>0.909385</td>\n",
       "      <td>0.891295</td>\n",
       "      <td>0.872307</td>\n",
       "      <td>0.010068</td>\n",
       "      <td>0.878578</td>\n",
       "    </tr>\n",
       "  </tbody>\n",
       "</table>\n",
       "</div>"
      ],
      "text/plain": [
       "         Accuracy  Precision    Recall   FP Rate  F1 Score\n",
       "Bagging  0.909385   0.891295  0.872307  0.010068  0.878578"
      ]
     },
     "execution_count": 201,
     "metadata": {},
     "output_type": "execute_result"
    }
   ],
   "source": [
    "# 6. BaggingClassifier\n",
    "from sklearn.ensemble import BaggingClassifier\n",
    "\n",
    "# Create a BaggingClassifier instance with DecisionTreeClassifier as base estimator\n",
    "bagging_classifier = BaggingClassifier(base_estimator=DecisionTreeClassifier())\n",
    "\n",
    "# Fit the classifier to the training data\n",
    "bagging_classifier.fit(X_train_aug, y_train)\n",
    "\n",
    "# Make predictions on the test data\n",
    "y_pred_bagging = bagging_classifier.predict(X_test_aug)\n",
    "\n",
    "overall_metrics(y_test, y_pred_bagging, 'Bagging')"
   ]
  },
  {
   "cell_type": "code",
   "execution_count": null,
   "metadata": {},
   "outputs": [],
   "source": [
    "# # 7. HistGradientBoostingClassifier\n",
    "# from sklearn.experimental import enable_hist_gradient_boosting\n",
    "# from sklearn.ensemble import HistGradientBoostingClassifier\n",
    "\n",
    "# # Create a HistGradientBoostingClassifier instance\n",
    "# hist_gb_classifier = HistGradientBoostingClassifier()\n",
    "\n",
    "# # Fit the classifier to the training data\n",
    "# hist_gb_classifier.fit(X_train, y_train)\n",
    "\n",
    "# # Make predictions on the test data\n",
    "# y_pred_hist_gb = hist_gb_classifier.predict(X_test)"
   ]
  },
  {
   "cell_type": "code",
   "execution_count": 202,
   "metadata": {},
   "outputs": [
    {
     "data": {
      "text/html": [
       "<div>\n",
       "<style scoped>\n",
       "    .dataframe tbody tr th:only-of-type {\n",
       "        vertical-align: middle;\n",
       "    }\n",
       "\n",
       "    .dataframe tbody tr th {\n",
       "        vertical-align: top;\n",
       "    }\n",
       "\n",
       "    .dataframe thead th {\n",
       "        text-align: right;\n",
       "    }\n",
       "</style>\n",
       "<table border=\"1\" class=\"dataframe\">\n",
       "  <thead>\n",
       "    <tr style=\"text-align: right;\">\n",
       "      <th></th>\n",
       "      <th>Accuracy</th>\n",
       "      <th>Precision</th>\n",
       "      <th>Recall</th>\n",
       "      <th>FP Rate</th>\n",
       "      <th>F1 Score</th>\n",
       "    </tr>\n",
       "  </thead>\n",
       "  <tbody>\n",
       "    <tr>\n",
       "      <th>Decision Tree</th>\n",
       "      <td>0.851456</td>\n",
       "      <td>0.800152</td>\n",
       "      <td>0.786028</td>\n",
       "      <td>0.016505</td>\n",
       "      <td>0.786305</td>\n",
       "    </tr>\n",
       "    <tr>\n",
       "      <th>Extra Tree</th>\n",
       "      <td>0.638188</td>\n",
       "      <td>0.511119</td>\n",
       "      <td>0.503490</td>\n",
       "      <td>0.040201</td>\n",
       "      <td>0.504474</td>\n",
       "    </tr>\n",
       "    <tr>\n",
       "      <th>Random Forest</th>\n",
       "      <td>0.908091</td>\n",
       "      <td>0.934869</td>\n",
       "      <td>0.819853</td>\n",
       "      <td>0.010212</td>\n",
       "      <td>0.855778</td>\n",
       "    </tr>\n",
       "    <tr>\n",
       "      <th>AdaBoost</th>\n",
       "      <td>0.576375</td>\n",
       "      <td>0.582336</td>\n",
       "      <td>0.538095</td>\n",
       "      <td>0.047069</td>\n",
       "      <td>0.539542</td>\n",
       "    </tr>\n",
       "    <tr>\n",
       "      <th>Bagging</th>\n",
       "      <td>0.909385</td>\n",
       "      <td>0.891295</td>\n",
       "      <td>0.872307</td>\n",
       "      <td>0.010068</td>\n",
       "      <td>0.878578</td>\n",
       "    </tr>\n",
       "  </tbody>\n",
       "</table>\n",
       "</div>"
      ],
      "text/plain": [
       "               Accuracy  Precision    Recall   FP Rate  F1 Score\n",
       "Decision Tree  0.851456   0.800152  0.786028  0.016505  0.786305\n",
       "Extra Tree     0.638188   0.511119  0.503490  0.040201  0.504474\n",
       "Random Forest  0.908091   0.934869  0.819853  0.010212  0.855778\n",
       "AdaBoost       0.576375   0.582336  0.538095  0.047069  0.539542\n",
       "Bagging        0.909385   0.891295  0.872307  0.010068  0.878578"
      ]
     },
     "execution_count": 202,
     "metadata": {},
     "output_type": "execute_result"
    }
   ],
   "source": [
    "# table of comparison\n",
    "metrics = [overall_metrics(y_test, y_pred_dt, 'Decision Tree'), overall_metrics(y_test, y_pred_extra_tree, 'Extra Tree'), overall_metrics(y_test, y_pred_rf, 'Random Forest'), overall_metrics(y_test, y_pred_adaboost, 'AdaBoost'), overall_metrics(y_test, y_pred_bagging, 'Bagging')]\n",
    "metrics = pd.concat(metrics)\n",
    "metrics"
   ]
  }
 ],
 "metadata": {
  "kernelspec": {
   "display_name": "base",
   "language": "python",
   "name": "python3"
  },
  "language_info": {
   "codemirror_mode": {
    "name": "ipython",
    "version": 3
   },
   "file_extension": ".py",
   "mimetype": "text/x-python",
   "name": "python",
   "nbconvert_exporter": "python",
   "pygments_lexer": "ipython3",
   "version": "3.11.5"
  }
 },
 "nbformat": 4,
 "nbformat_minor": 2
}
