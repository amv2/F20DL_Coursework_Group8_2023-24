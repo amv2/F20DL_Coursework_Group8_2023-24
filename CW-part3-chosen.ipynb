{
 "cells": [
  {
   "cell_type": "markdown",
   "metadata": {},
   "source": [
    "# F20DL Coursework Group 8 2023-24"
   ]
  },
  {
   "cell_type": "markdown",
   "metadata": {},
   "source": [
    "### Group 8 Members:\n",
    "- Madihah Anaum\n",
    "- Tanisha Kasar\n",
    "- Sneha Sunny\n",
    "- Dhruv Raghu\n",
    "- Moses Varghese"
   ]
  },
  {
   "cell_type": "markdown",
   "metadata": {},
   "source": [
    "# Part 3. Supervised Learning: Generalisation & Overfitting; Decision Trees"
   ]
  },
  {
   "cell_type": "markdown",
   "metadata": {},
   "source": [
    "## Content\n",
    "- Coursework Title"
   ]
  },
  {
   "cell_type": "code",
   "execution_count": 1,
   "metadata": {},
   "outputs": [],
   "source": [
    "# import basic libaries\n",
    "import numpy as np\n",
    "import pandas as pd\n",
    "\n",
    "# import libraries for classification and other studies\n",
    "import matplotlib.pyplot as plt\n",
    "import cv2\n",
    "from sklearn.model_selection import train_test_split"
   ]
  },
  {
   "cell_type": "code",
   "execution_count": 2,
   "metadata": {},
   "outputs": [],
   "source": [
    "import warnings\n",
    "warnings.filterwarnings('ignore')"
   ]
  },
  {
   "cell_type": "code",
   "execution_count": 3,
   "metadata": {},
   "outputs": [],
   "source": [
    "# read the chosen data set\n",
    "chosen_data = pd.read_csv(\"datasets/data/Crime_Data_from_2020_to_Present.csv\")"
   ]
  },
  {
   "cell_type": "code",
   "execution_count": 5,
   "metadata": {},
   "outputs": [
    {
     "name": "stdout",
     "output_type": "stream",
     "text": [
      "0\n",
      "DR_NO                  0\n",
      "Date Rptd              0\n",
      "DATE OCC               0\n",
      "TIME OCC               0\n",
      "AREA                   0\n",
      "AREA NAME              0\n",
      "Rpt Dist No            0\n",
      "Part 1-2               0\n",
      "Crm Cd                 0\n",
      "Crm Cd Desc            0\n",
      "Mocodes           112762\n",
      "Vict Age               0\n",
      "Vict Sex          107192\n",
      "Vict Descent      107200\n",
      "Premis Cd              9\n",
      "Premis Desc          480\n",
      "Weapon Used Cd    531448\n",
      "Weapon Desc       531448\n",
      "Status                 0\n",
      "Status Desc            0\n",
      "Crm Cd 1              10\n",
      "Crm Cd 2          755765\n",
      "Crm Cd 3          813869\n",
      "Crm Cd 4          815823\n",
      "LOCATION               0\n",
      "Cross Street      685361\n",
      "LAT                    0\n",
      "LON                    0\n",
      "dtype: int64\n"
     ]
    },
    {
     "data": {
      "text/plain": [
       "4461367"
      ]
     },
     "execution_count": 5,
     "metadata": {},
     "output_type": "execute_result"
    }
   ],
   "source": [
    "# check for duplicated values\n",
    "print(chosen_data.duplicated().sum())\n",
    "# check for missing values\n",
    "print(chosen_data.isnull().sum())\n",
    "# check the total number of missing values\n",
    "chosen_data.isnull().sum().sum()"
   ]
  },
  {
   "cell_type": "code",
   "execution_count": 4,
   "metadata": {},
   "outputs": [
    {
     "data": {
      "text/plain": [
       "DR_NO             0\n",
       "Date Rptd         0\n",
       "DATE OCC          0\n",
       "TIME OCC          0\n",
       "AREA              0\n",
       "AREA NAME         0\n",
       "Rpt Dist No       0\n",
       "Part 1-2          0\n",
       "Crm Cd            0\n",
       "Crm Cd Desc       0\n",
       "Mocodes           0\n",
       "Vict Age          0\n",
       "Vict Sex          0\n",
       "Vict Descent      0\n",
       "Premis Cd         0\n",
       "Premis Desc       0\n",
       "Weapon Used Cd    0\n",
       "Weapon Desc       0\n",
       "Status            0\n",
       "Status Desc       0\n",
       "Crm Cd 1          0\n",
       "Crm Cd 2          0\n",
       "Crm Cd 3          0\n",
       "Crm Cd 4          0\n",
       "LOCATION          0\n",
       "Cross Street      0\n",
       "LAT               0\n",
       "LON               0\n",
       "dtype: int64"
      ]
     },
     "execution_count": 4,
     "metadata": {},
     "output_type": "execute_result"
    }
   ],
   "source": [
    "# fill the missing values with the mode (most frequent) value\n",
    "chosen_data_cleaned = chosen_data.fillna(chosen_data.mode().iloc[0])\n",
    "# check for missing values\n",
    "chosen_data_cleaned.isnull().sum()"
   ]
  },
  {
   "cell_type": "code",
   "execution_count": 5,
   "metadata": {},
   "outputs": [],
   "source": [
    "# create a new data set with only numerics from the chosen data set by using label encoding\n",
    "chosen_data_num = chosen_data_cleaned.copy()\n",
    "\n",
    "chosen_data_num = chosen_data_num.select_dtypes(include=['number'])"
   ]
  },
  {
   "cell_type": "code",
   "execution_count": 6,
   "metadata": {},
   "outputs": [],
   "source": [
    "# create the features and target data sets\n",
    "features = chosen_data_num.drop(columns=[\"Crm Cd\"])\n",
    "target = chosen_data_num[\"Crm Cd\"]"
   ]
  },
  {
   "cell_type": "code",
   "execution_count": 7,
   "metadata": {},
   "outputs": [],
   "source": [
    "# split the data into train and test sets\n",
    "X_train, X_test, y_train, y_test = train_test_split(features, target, test_size=0.3, random_state=42)"
   ]
  },
  {
   "cell_type": "code",
   "execution_count": 17,
   "metadata": {},
   "outputs": [
    {
     "name": "stdout",
     "output_type": "stream",
     "text": [
      "(571117, 11)\n",
      "(571117,)\n",
      "(244765, 11)\n",
      "(244765,)\n"
     ]
    }
   ],
   "source": [
    "print(X_train.shape)\n",
    "print(y_train.shape)\n",
    "print(X_test.shape)\n",
    "print(y_test.shape)"
   ]
  },
  {
   "cell_type": "code",
   "execution_count": 18,
   "metadata": {},
   "outputs": [
    {
     "name": "stdout",
     "output_type": "stream",
     "text": [
      "0\n",
      "0\n",
      "0\n",
      "0\n"
     ]
    }
   ],
   "source": [
    "print(X_train.isnull().sum().sum())\n",
    "print(y_train.isnull().sum().sum())\n",
    "print(X_test.isnull().sum().sum())\n",
    "print(y_test.isnull().sum().sum())"
   ]
  },
  {
   "cell_type": "markdown",
   "metadata": {},
   "source": [
    "## Decision Trees using only Train Dataset"
   ]
  },
  {
   "cell_type": "code",
   "execution_count": 8,
   "metadata": {},
   "outputs": [
    {
     "name": "stdout",
     "output_type": "stream",
     "text": [
      "(571117, 14)\n",
      "(571117,)\n",
      "(244765, 14)\n",
      "(244765,)\n"
     ]
    }
   ],
   "source": [
    "from sklearn.tree import DecisionTreeClassifier\n",
    "from sklearn.model_selection import train_test_split\n",
    "\n",
    "X_train1, X_test1, y_train1, y_test1 = train_test_split(X_train, y_train, train_size=0.3, random_state=42)\n",
    "\n",
    "# Create Decision Tree classifer object\n",
    "dt = DecisionTreeClassifier()\n",
    "\n",
    "# Train Decision Tree Classifer\n",
    "dt.fit(X_train1,y_train1)\n",
    "\n",
    "#Predict the response for test dataset\n",
    "y_pred_dt = dt.predict(X_test1)\n",
    "\n",
    "print(X_train.shape)\n",
    "print(y_train.shape)\n",
    "print(X_test.shape)\n",
    "print(y_test.shape)"
   ]
  },
  {
   "cell_type": "code",
   "execution_count": 9,
   "metadata": {},
   "outputs": [],
   "source": [
    "from sklearn.metrics import accuracy_score, precision_score, recall_score, f1_score, classification_report, confusion_matrix\n",
    "\n",
    "# create a custom function for getting metrics for each class\n",
    "def class_metrics(y_test, y_pred, algorithm='<Alg Name>'):\n",
    "    conf_matrix = confusion_matrix(y_test, y_pred)\n",
    "\n",
    "    num_classes = len(conf_matrix)\n",
    "\n",
    "    # create a table of comparison comapring the accuracy, precision, true positive rate, false positive rate and f1 score for each class and then the entire model\n",
    "    metrics = pd.DataFrame(columns=['Precision', 'Recall', 'FP Rate', 'F1 Score'])\n",
    "\n",
    "    tp_sum = 0\n",
    "    fn_sum = 0\n",
    "    fp_sum = 0\n",
    "    tn_sum = 0\n",
    "\n",
    "    for i in range(num_classes):\n",
    "        # Calculate metrics for the current class\n",
    "        tp = conf_matrix[i, i]\n",
    "        fn = conf_matrix[i, :].sum() - tp\n",
    "        fp = conf_matrix[:, i].sum() - tp\n",
    "        tn = conf_matrix.sum() - (tp + fn + fp)\n",
    "\n",
    "        tp_sum += tp\n",
    "        fn_sum += fn\n",
    "        fp_sum += fp\n",
    "        tn_sum += tn\n",
    "\n",
    "        precision = tp/(tp+fp)\n",
    "        recall = tp/(tp+fn)\n",
    "        fp_rate = fp/(fp+tn)\n",
    "        f_measure = 2*precision*recall/(precision+recall)\n",
    "\n",
    "        metrics.loc[i] = [precision, recall, fp_rate, f_measure]\n",
    "        \n",
    "    metrics.index = ['Class '+str(i) for i in range(num_classes)]\n",
    "\n",
    "    return metrics"
   ]
  },
  {
   "cell_type": "code",
   "execution_count": 10,
   "metadata": {},
   "outputs": [],
   "source": [
    "# function to get overall metrics\n",
    "def overall_metrics(y_test, y_pred, algorithm='<Alg Name>'):\n",
    "    conf_matrix = confusion_matrix(y_test, y_pred)\n",
    "\n",
    "    num_classes = len(conf_matrix)\n",
    "    \n",
    "    tp_sum = 0\n",
    "    fn_sum = 0\n",
    "    fp_sum = 0\n",
    "    tn_sum = 0\n",
    "\n",
    "    metrics = pd.DataFrame(columns=['Accuracy', 'Precision', 'Recall', 'FP Rate', 'F1 Score'])\n",
    "\n",
    "    for i in range(num_classes):\n",
    "        # Calculate metrics for the current class\n",
    "        tp = conf_matrix[i, i]\n",
    "        fn = conf_matrix[i, :].sum() - tp\n",
    "        fp = conf_matrix[:, i].sum() - tp\n",
    "        tn = conf_matrix.sum() - (tp + fn + fp)\n",
    "\n",
    "        tp_sum += tp\n",
    "        fn_sum += fn\n",
    "        fp_sum += fp\n",
    "        tn_sum += tn\n",
    "\n",
    "    accuracy = accuracy_score(y_test, y_pred)\n",
    "    precision = precision_score(y_test, y_pred, average='macro')\n",
    "    recall = recall_score(y_test, y_pred, average='macro')\n",
    "    fp_rate = fp_sum/(fp_sum+tn_sum)\n",
    "    f_measure = f1_score(y_test, y_pred, average='macro')\n",
    "\n",
    "    metrics.loc[0] = [accuracy, precision, recall, fp_rate, f_measure]\n",
    "    metrics.index = [algorithm]\n",
    "\n",
    "    return metrics"
   ]
  },
  {
   "cell_type": "code",
   "execution_count": 11,
   "metadata": {},
   "outputs": [
    {
     "name": "stdout",
     "output_type": "stream",
     "text": [
      "Class Metrics\n",
      "           Precision    Recall   FP Rate  F1 Score\n",
      "Class 0     1.000000  1.000000  0.000000  1.000000\n",
      "Class 1     1.000000  1.000000  0.000000  1.000000\n",
      "Class 2     1.000000  1.000000  0.000000  1.000000\n",
      "Class 3     1.000000  1.000000  0.000000  1.000000\n",
      "Class 4     0.999927  1.000000  0.000003  0.999963\n",
      "...              ...       ...       ...       ...\n",
      "Class 131   1.000000  1.000000  0.000000  1.000000\n",
      "Class 132   1.000000  0.925000  0.000000  0.961039\n",
      "Class 133   0.984733  0.992308  0.000005  0.988506\n",
      "Class 134   1.000000  1.000000  0.000000  1.000000\n",
      "Class 135   1.000000  1.000000  0.000000  1.000000\n",
      "\n",
      "[136 rows x 4 columns]\n",
      "\n",
      "Overall Metrics\n",
      "               Accuracy  Precision    Recall   FP Rate  F1 Score\n",
      "Decision Tree  0.999272   0.924099  0.919332  0.000005  0.915582\n"
     ]
    }
   ],
   "source": [
    "print('Class Metrics')\n",
    "print(class_metrics(y_test1, y_pred_dt, 'Decision Tree'))\n",
    "print('\\nOverall Metrics')\n",
    "print(overall_metrics(y_test1, y_pred_dt, 'Decision Tree'))"
   ]
  },
  {
   "cell_type": "markdown",
   "metadata": {},
   "source": [
    "## Decision Trees Using 10-Fold Cross-Validation"
   ]
  },
  {
   "cell_type": "markdown",
   "metadata": {},
   "source": [
    "Now you will start working with the provided test data sets.\n",
    " Use Decision trees (the J48 algorithm) on the training set, measure the accuracy. Then measure\n",
    "the accuracy on the training set using 10-fold cross-validation. Record all your findings and explain\n",
    "them. Use the major metrics: accuracy, TP rate, FP rate, precision, recall, F measure, the ROC area if\n",
    "needed."
   ]
  },
  {
   "cell_type": "code",
   "execution_count": 27,
   "metadata": {},
   "outputs": [
    {
     "name": "stdout",
     "output_type": "stream",
     "text": [
      "Class Metrics for Cross Val Predict\n",
      "           Precision    Recall   FP Rate  F1 Score\n",
      "Class 0     1.000000  1.000000  0.000000  1.000000\n",
      "Class 1     1.000000  1.000000  0.000000  1.000000\n",
      "Class 2     1.000000  1.000000  0.000000  1.000000\n",
      "Class 3     1.000000  1.000000  0.000000  1.000000\n",
      "Class 4     0.999847  0.999898  0.000005  0.999872\n",
      "...              ...       ...       ...       ...\n",
      "Class 132   1.000000  1.000000  0.000000  1.000000\n",
      "Class 133   0.944444  0.980769  0.000005  0.962264\n",
      "Class 134   0.994737  0.994737  0.000002  0.994737\n",
      "Class 135   1.000000  1.000000  0.000000  1.000000\n",
      "Class 136   1.000000  1.000000  0.000000  1.000000\n",
      "\n",
      "[137 rows x 4 columns]\n",
      "\n",
      "Overall Metrics for Cross Val Predict\n",
      "           Accuracy  Precision    Recall   FP Rate  F1 Score\n",
      "Cross Val  0.999725   0.984383  0.982216  0.000002  0.981557\n"
     ]
    }
   ],
   "source": [
    "# retrain the model using 10 fold cross validation and then test the results\n",
    "from sklearn.model_selection import cross_val_predict, cross_val_score\n",
    "\n",
    "# using cross_val predict\n",
    "y_pred_dt_cv = cross_val_predict(dt, X_train, y_train, cv=10)\n",
    "\n",
    "print('Class Metrics for Cross Val Predict')\n",
    "print(class_metrics(y_train, y_pred_dt_cv, 'Cross Val'))\n",
    "print('\\nOverall Metrics for Cross Val Predict')\n",
    "print(overall_metrics(y_train, y_pred_dt_cv, 'Cross Val'))"
   ]
  },
  {
   "cell_type": "code",
   "execution_count": 28,
   "metadata": {},
   "outputs": [
    {
     "name": "stdout",
     "output_type": "stream",
     "text": [
      "[0.99964981 0.99966732 0.9996323  0.99970234 0.99970234 0.99966732\n",
      " 0.99977238 0.99994747 0.99956226 0.99973735]\n",
      "Accuracy: 1.00 (+/- 0.00)\n"
     ]
    }
   ],
   "source": [
    "# using cross val scores\n",
    "scores = cross_val_score(dt, X_train, y_train, cv=10)\n",
    "print(scores)\n",
    "print(\"Accuracy: %0.2f (+/- %0.2f)\" % (scores.mean(), scores.std() * 2))"
   ]
  },
  {
   "cell_type": "markdown",
   "metadata": {},
   "source": [
    "## Decision Trees Using Train and Test Data Sets"
   ]
  },
  {
   "cell_type": "markdown",
   "metadata": {},
   "source": [
    "Repeat the experiment, this time using training and testing data sets instead of the cross\n",
    "validation. That is, build the J48 classifier using the training data set, and test the classifier using the test\n",
    "data set. Note the accuracy. Answer the question: Does the decision tree generalize well to new data?\n",
    "How do you tell?\n"
   ]
  },
  {
   "cell_type": "code",
   "execution_count": 29,
   "metadata": {},
   "outputs": [
    {
     "name": "stdout",
     "output_type": "stream",
     "text": [
      "Class Metrics for Train Test Split\n",
      "           Precision    Recall   FP Rate  F1 Score\n",
      "Class 0     1.000000  1.000000  0.000000  1.000000\n",
      "Class 1     1.000000  1.000000  0.000000  1.000000\n",
      "Class 2     1.000000  1.000000  0.000000  1.000000\n",
      "Class 3     1.000000  1.000000  0.000000  1.000000\n",
      "Class 4     0.999763  0.999644  0.000008  0.999703\n",
      "...              ...       ...       ...       ...\n",
      "Class 131   1.000000  1.000000  0.000000  1.000000\n",
      "Class 132   0.866667  1.000000  0.000008  0.928571\n",
      "Class 133   0.989583  0.979381  0.000004  0.984456\n",
      "Class 134   1.000000  1.000000  0.000000  1.000000\n",
      "Class 135   1.000000  1.000000  0.000000  1.000000\n",
      "\n",
      "[136 rows x 4 columns]\n",
      "\n",
      "Overall Metrics for Train Test Split\n",
      "                          Accuracy  Precision    Recall   FP Rate  F1 Score\n",
      "Decision Tree Train Test  0.999681   0.984363  0.986172  0.000002  0.983285\n"
     ]
    }
   ],
   "source": [
    "# Train Decision Tree Classifer\n",
    "dt.fit(X_train,y_train)\n",
    "\n",
    "#Predict the response for test dataset\n",
    "y_pred_dt_tt = dt.predict(X_test)\n",
    "\n",
    "print('Class Metrics for Train Test Split')\n",
    "print(class_metrics(y_test, y_pred_dt_tt, 'Decision Tree Train Test'))\n",
    "print('\\nOverall Metrics for Train Test Split')\n",
    "print(overall_metrics(y_test, y_pred_dt_tt, 'Decision Tree Train Test'))"
   ]
  },
  {
   "cell_type": "markdown",
   "metadata": {},
   "source": [
    "## Decision Tree Parameters and Their Influence"
   ]
  },
  {
   "cell_type": "markdown",
   "metadata": {},
   "source": [
    "Experiment with various decision tree parameters that control the size of the tree. For example:\n",
    "depth of the tree, confidence threshold for pruning, splitting criteria and the minimal number of instances\n",
    "permissible per leaf. Make conclusions about their influence on the classifier's performance."
   ]
  },
  {
   "cell_type": "markdown",
   "metadata": {},
   "source": [
    "#### Max Depth Test"
   ]
  },
  {
   "cell_type": "code",
   "execution_count": 30,
   "metadata": {},
   "outputs": [
    {
     "name": "stdout",
     "output_type": "stream",
     "text": [
      "Overall Metrics for Max Depth 1\n",
      "             Accuracy  Precision    Recall   FP Rate  F1 Score\n",
      "Max Depth 1  0.170392   0.002531  0.014705  0.006145  0.004273\n",
      "\n",
      "\n",
      "Overall Metrics for Max Depth 5\n",
      "             Accuracy  Precision    Recall   FP Rate  F1 Score\n",
      "Max Depth 5  0.706478   0.133839  0.146872  0.002174  0.130415\n",
      "\n",
      "\n",
      "Overall Metrics for Max Depth 10\n",
      "              Accuracy  Precision    Recall   FP Rate  F1 Score\n",
      "Max Depth 10  0.951223   0.528278  0.504336  0.000361  0.495579\n",
      "\n",
      "\n",
      "Overall Metrics for Max Depth 15\n",
      "              Accuracy  Precision    Recall   FP Rate  F1 Score\n",
      "Max Depth 15  0.992262   0.789932  0.780234  0.000057  0.772028\n",
      "\n",
      "\n",
      "Overall Metrics for Max Depth 20\n",
      "              Accuracy  Precision    Recall   FP Rate  F1 Score\n",
      "Max Depth 20  0.999048   0.942909  0.939296  0.000007  0.936125\n",
      "\n",
      "\n",
      "Overall Metrics for Max Depth 25\n",
      "              Accuracy  Precision    Recall   FP Rate  F1 Score\n",
      "Max Depth 25  0.999661   0.983464  0.985087  0.000003  0.982301\n",
      "\n",
      "\n",
      "Overall Metrics for Max Depth 30\n",
      "              Accuracy  Precision    Recall   FP Rate  F1 Score\n",
      "Max Depth 30  0.999661   0.983464  0.985087  0.000003  0.982301\n",
      "\n",
      "\n"
     ]
    },
    {
     "data": {
      "image/png": "[encoded data removed]",
      "text/plain": [
       "<Figure size 640x480 with 1 Axes>"
      ]
     },
     "metadata": {},
     "output_type": "display_data"
    }
   ],
   "source": [
    "test_parameters = [1, 5, 10, 15, 20, 25, 30]\n",
    "accuracies = []\n",
    "\n",
    "for i in test_parameters:\n",
    "    # Create Decision Tree classifer object\n",
    "    dt = DecisionTreeClassifier(max_depth=i, random_state=42)\n",
    "\n",
    "    # Train Decision Tree Classifer\n",
    "    dt.fit(X_train,y_train)\n",
    "\n",
    "    #Predict the response for test dataset\n",
    "    y_pred = dt.predict(X_test)\n",
    "\n",
    "    accuracies.append([i, accuracy_score(y_test, y_pred)])\n",
    "\n",
    "    print('Overall Metrics for Max Depth '+str(i))\n",
    "    print(overall_metrics(y_test, y_pred, 'Max Depth '+str(i)))\n",
    "    print('\\n')\n",
    "\n",
    "# plot accuracy vs max_depth\n",
    "plt.plot(test_parameters, [x[1] for x in accuracies])\n",
    "plt.xlabel('Max Depth')\n",
    "plt.ylabel('Accuracy')\n",
    "plt.title('Accuracy vs Max Depth')\n",
    "plt.show()"
   ]
  },
  {
   "cell_type": "markdown",
   "metadata": {},
   "source": [
    "#### Confidence Threshold Test"
   ]
  },
  {
   "cell_type": "code",
   "execution_count": 31,
   "metadata": {},
   "outputs": [
    {
     "name": "stdout",
     "output_type": "stream",
     "text": [
      "Overall Metrics for Min Samples Split 2\n",
      "                     Accuracy  Precision    Recall   FP Rate  F1 Score\n",
      "Min Samples Split 2  0.999661   0.983464  0.985087  0.000003  0.982301\n",
      "Overall Metrics for Min Samples Split 4\n",
      "                     Accuracy  Precision  Recall   FP Rate  F1 Score\n",
      "Min Samples Split 4  0.999669   0.984972   0.989  0.000002   0.98614\n",
      "Overall Metrics for Min Samples Split 6\n",
      "                     Accuracy  Precision    Recall   FP Rate  F1 Score\n",
      "Min Samples Split 6  0.999681   0.985377  0.987616  0.000002   0.98503\n",
      "Overall Metrics for Min Samples Split 8\n",
      "                     Accuracy  Precision    Recall   FP Rate  F1 Score\n",
      "Min Samples Split 8  0.999665    0.97982  0.981741  0.000002  0.980336\n",
      "Overall Metrics for Min Samples Split 10\n",
      "                      Accuracy  Precision    Recall   FP Rate  F1 Score\n",
      "Min Samples Split 10  0.999645   0.948202  0.952624  0.000003  0.949723\n",
      "Overall Metrics for Min Samples Split 12\n",
      "                      Accuracy  Precision    Recall   FP Rate  F1 Score\n",
      "Min Samples Split 12  0.999645   0.938399  0.945287  0.000003  0.941005\n",
      "Overall Metrics for Min Samples Split 14\n",
      "                      Accuracy  Precision    Recall   FP Rate  F1 Score\n",
      "Min Samples Split 14  0.999608   0.930275  0.937927  0.000003  0.933232\n",
      "Overall Metrics for Min Samples Split 16\n",
      "                      Accuracy  Precision    Recall   FP Rate  F1 Score\n",
      "Min Samples Split 16  0.999587   0.921975  0.930503  0.000003  0.925291\n",
      "Overall Metrics for Min Samples Split 18\n",
      "                      Accuracy  Precision    Recall   FP Rate  F1 Score\n",
      "Min Samples Split 18  0.999563   0.912403  0.923057  0.000003  0.916075\n",
      "Overall Metrics for Min Samples Split 20\n",
      "                      Accuracy  Precision    Recall   FP Rate  F1 Score\n",
      "Min Samples Split 20  0.999538   0.912322  0.922901  0.000003  0.915955\n"
     ]
    },
    {
     "data": {
      "image/png": "[encoded data removed]",
      "text/plain": [
       "<Figure size 640x480 with 1 Axes>"
      ]
     },
     "metadata": {},
     "output_type": "display_data"
    }
   ],
   "source": [
    "test_parameters = [2, 4, 6, 8, 10, 12, 14, 16, 18, 20]\n",
    "accuracies = []\n",
    "\n",
    "for i in test_parameters:\n",
    "    # Create Decision Tree classifer object\n",
    "    dt = DecisionTreeClassifier(min_samples_split=i, random_state=42)\n",
    "\n",
    "    # Train Decision Tree Classifer\n",
    "    dt.fit(X_train,y_train)\n",
    "\n",
    "    #Predict the response for test dataset\n",
    "    y_pred = dt.predict(X_test)\n",
    "\n",
    "    accuracies.append([i, accuracy_score(y_test, y_pred)])\n",
    "\n",
    "    print('Overall Metrics for Min Samples Split '+str(i))\n",
    "    print(overall_metrics(y_test, y_pred, 'Min Samples Split '+str(i)))\n",
    "\n",
    "# plot accuracy vs min_samples_split\n",
    "plt.plot(test_parameters, [x[1] for x in accuracies])\n",
    "plt.xlabel('Min Samples Split')\n",
    "plt.ylabel('Accuracy')\n",
    "plt.title('Accuracy vs Min Samples Split')\n",
    "plt.show()"
   ]
  },
  {
   "cell_type": "markdown",
   "metadata": {},
   "source": [
    "#### Splitting Criteria Test"
   ]
  },
  {
   "cell_type": "code",
   "execution_count": 32,
   "metadata": {},
   "outputs": [
    {
     "name": "stdout",
     "output_type": "stream",
     "text": [
      "Overall Metrics for Criterion gini\n",
      "                Accuracy  Precision    Recall   FP Rate  F1 Score\n",
      "Criterion gini  0.999661   0.983464  0.985087  0.000003  0.982301\n",
      "Overall Metrics for Criterion entropy\n",
      "                   Accuracy  Precision    Recall   FP Rate  F1 Score\n",
      "Criterion entropy   0.99971   0.984876  0.989957  0.000002  0.986057\n"
     ]
    }
   ],
   "source": [
    "# splitting criteria parameters to test\n",
    "parameters = ['gini', 'entropy']\n",
    "\n",
    "accuracies = []\n",
    "\n",
    "for i in parameters:\n",
    "    # Create Decision Tree classifer object\n",
    "    dt = DecisionTreeClassifier(criterion=i, random_state=42)\n",
    "\n",
    "    # Train Decision Tree Classifer\n",
    "    dt.fit(X_train,y_train)\n",
    "\n",
    "    #Predict the response for test dataset\n",
    "    y_pred = dt.predict(X_test)\n",
    "\n",
    "    accuracies.append([i, accuracy_score(y_test, y_pred)])\n",
    "\n",
    "    print('Overall Metrics for Criterion '+str(i))\n",
    "    print(overall_metrics(y_test, y_pred, 'Criterion '+str(i)))"
   ]
  },
  {
   "cell_type": "markdown",
   "metadata": {},
   "source": [
    "#### Minimim Number of Instances per Leaf Test"
   ]
  },
  {
   "cell_type": "code",
   "execution_count": 33,
   "metadata": {},
   "outputs": [
    {
     "name": "stdout",
     "output_type": "stream",
     "text": [
      "Overall Metrics for Min Samples per Leaf 2\n",
      "                        Accuracy  Precision    Recall   FP Rate  F1 Score\n",
      "Min Samples per Leaf 2  0.999653   0.973563  0.980204  0.000003  0.974783\n",
      "Overall Metrics for Min Samples per Leaf 4\n",
      "                        Accuracy  Precision  Recall   FP Rate  F1 Score\n",
      "Min Samples per Leaf 4  0.999604   0.937327  0.9425  0.000003  0.939209\n",
      "Overall Metrics for Min Samples per Leaf 6\n",
      "                        Accuracy  Precision    Recall   FP Rate  F1 Score\n",
      "Min Samples per Leaf 6  0.999448   0.874113  0.885771  0.000004  0.878773\n",
      "Overall Metrics for Min Samples per Leaf 8\n",
      "                        Accuracy  Precision    Recall   FP Rate  F1 Score\n",
      "Min Samples per Leaf 8  0.999318   0.852288  0.857623  0.000005  0.852515\n",
      "Overall Metrics for Min Samples per Leaf 10\n",
      "                         Accuracy  Precision    Recall   FP Rate  F1 Score\n",
      "Min Samples per Leaf 10  0.999289   0.822101  0.834293  0.000005  0.825508\n",
      "Overall Metrics for Min Samples per Leaf 12\n",
      "                         Accuracy  Precision    Recall   FP Rate  F1 Score\n",
      "Min Samples per Leaf 12  0.999248   0.814051  0.828549  0.000006  0.818735\n",
      "Overall Metrics for Min Samples per Leaf 14\n",
      "                         Accuracy  Precision    Recall   FP Rate  F1 Score\n",
      "Min Samples per Leaf 14  0.999199   0.805735  0.821158  0.000006  0.810805\n"
     ]
    },
    {
     "data": {
      "image/png": "[encoded data removed]",
      "text/plain": [
       "<Figure size 640x480 with 1 Axes>"
      ]
     },
     "metadata": {},
     "output_type": "display_data"
    }
   ],
   "source": [
    "parameters = [2, 4, 6, 8, 10, 12, 14]\n",
    "accuracies = []\n",
    "\n",
    "for i in parameters:\n",
    "    # Create Decision Tree classifer object\n",
    "    dt = DecisionTreeClassifier(min_samples_leaf=i, random_state=42)\n",
    "\n",
    "    # Train Decision Tree Classifer\n",
    "    dt.fit(X_train,y_train)\n",
    "\n",
    "    #Predict the response for test dataset\n",
    "    y_pred = dt.predict(X_test)\n",
    "\n",
    "    accuracies.append([i, accuracy_score(y_test, y_pred)])\n",
    "\n",
    "    print('Overall Metrics for Min Samples per Leaf '+str(i))\n",
    "    print(overall_metrics(y_test, y_pred, 'Min Samples per Leaf '+str(i)))\n",
    "\n",
    "# plot accuracy vs min_impurity_decrease\n",
    "plt.plot(parameters, [x[1] for x in accuracies])\n",
    "plt.xlabel('Min Samples per Leaf')\n",
    "plt.ylabel('Accuracy')\n",
    "plt.title('Accuracy vs Min Samples per Leaf')\n",
    "plt.show()"
   ]
  },
  {
   "cell_type": "code",
   "execution_count": 34,
   "metadata": {},
   "outputs": [
    {
     "name": "stdout",
     "output_type": "stream",
     "text": [
      "Class Metrics for Parameter Tuned Tree\n",
      "           Precision  Recall   FP Rate  F1 Score\n",
      "Class 0     0.992974     1.0  0.000012  0.996475\n",
      "Class 1          NaN     0.0  0.000000       NaN\n",
      "Class 2     1.000000     1.0  0.000000  1.000000\n",
      "Class 3     1.000000     1.0  0.000000  1.000000\n",
      "Class 4     0.999526     1.0  0.000017  0.999763\n",
      "...              ...     ...       ...       ...\n",
      "Class 131   0.966667     1.0  0.000004  0.983051\n",
      "Class 132   1.000000     1.0  0.000000  1.000000\n",
      "Class 133   0.989796     1.0  0.000004  0.994872\n",
      "Class 134   1.000000     1.0  0.000000  1.000000\n",
      "Class 135   1.000000     1.0  0.000000  1.000000\n",
      "\n",
      "[136 rows x 4 columns]\n",
      "\n",
      "Overall Metrics for Parameter Tuned Tree\n",
      "                      Accuracy  Precision    Recall   FP Rate  F1 Score\n",
      "Parameter Tuned Tree  0.998321   0.781671  0.811133  0.000012  0.791674\n"
     ]
    }
   ],
   "source": [
    "dt = DecisionTreeClassifier(max_depth=10, min_samples_split=18, criterion='entropy', min_samples_leaf=6, random_state=42)\n",
    "dt.fit(X_train,y_train)\n",
    "y_pred_par = dt.predict(X_test)\n",
    "\n",
    "print('Class Metrics for Parameter Tuned Tree')\n",
    "print(class_metrics(y_test, y_pred_par, 'Paramenter Tuned Tree'))\n",
    "print('\\nOverall Metrics for Parameter Tuned Tree')\n",
    "print(overall_metrics(y_test, y_pred_par, 'Parameter Tuned Tree'))"
   ]
  },
  {
   "cell_type": "markdown",
   "metadata": {},
   "source": [
    "## Test Set 30% Boost"
   ]
  },
  {
   "cell_type": "markdown",
   "metadata": {},
   "source": [
    "Make new training and testing sets, by moving 30% of the instances from the original training\n",
    "set into the testing set. Note the accuracies on the training and the testing sets"
   ]
  },
  {
   "cell_type": "code",
   "execution_count": 35,
   "metadata": {},
   "outputs": [
    {
     "name": "stdout",
     "output_type": "stream",
     "text": [
      "X_train:  (571117, 11)\n",
      "X_test: (244765, 11)\n",
      "New X_train: (399781, 11)\n",
      "New X_test: (416101, 11)\n",
      "           Precision    Recall   FP Rate  F1 Score\n",
      "Class 0     0.995896  1.000000  0.000007  0.997944\n",
      "Class 1          NaN  0.000000  0.000000       NaN\n",
      "Class 2     1.000000  1.000000  0.000000  1.000000\n",
      "Class 3     1.000000  1.000000  0.000000  1.000000\n",
      "Class 4     0.999721  1.000000  0.000010  0.999861\n",
      "...              ...       ...       ...       ...\n",
      "Class 133   0.956522  1.000000  0.000005  0.977778\n",
      "Class 134   1.000000  0.969697  0.000000  0.984615\n",
      "Class 135   1.000000  0.953947  0.000000  0.976431\n",
      "Class 136   1.000000  1.000000  0.000000  1.000000\n",
      "Class 137   1.000000  1.000000  0.000000  1.000000\n",
      "\n",
      "[138 rows x 4 columns]\n",
      "           Accuracy  Precision    Recall   FP Rate  F1 Score\n",
      "30% Boost  0.998231   0.768733  0.798797  0.000013  0.778521\n"
     ]
    }
   ],
   "source": [
    "# remove 30% of instance from X_train and y_train\n",
    "from sklearn.model_selection import train_test_split\n",
    "\n",
    "print('X_train: ', X_train.shape)\n",
    "print('X_test:', X_test.shape)\n",
    "\n",
    "X_train_new, X_test_add, y_train_new, y_test_add = train_test_split(X_train, y_train, test_size=0.3, random_state=42)\n",
    "\n",
    "X_test_30 = X_test\n",
    "y_test_30 = y_test.values\n",
    "# Add X_test_add and y_test_add to X_test and y_test\n",
    "X_test_new = np.concatenate((X_test_30, X_test_add), axis=0)\n",
    "y_test_new = np.concatenate((y_test_30, y_test_add), axis=0)\n",
    "\n",
    "print('New X_train:', X_train_new.shape)\n",
    "print('New X_test:', X_test_new.shape)\n",
    "\n",
    "dt.fit(X_train_new,y_train_new)\n",
    "y_pred_30 = dt.predict(X_test_new)\n",
    "\n",
    "print(class_metrics(y_test_new, y_pred_30, '30% Boost'))\n",
    "print(overall_metrics(y_test_new, y_pred_30, '30% Boost'))"
   ]
  },
  {
   "cell_type": "markdown",
   "metadata": {},
   "source": [
    "## Test Set 60% Boost"
   ]
  },
  {
   "cell_type": "markdown",
   "metadata": {},
   "source": [
    "Make new training and testing sets, by moving 60% of the instances from the original training\n",
    "set into the testing set. Note the accuracies on the training and the testing sets"
   ]
  },
  {
   "cell_type": "code",
   "execution_count": 36,
   "metadata": {},
   "outputs": [
    {
     "name": "stdout",
     "output_type": "stream",
     "text": [
      "X_train:  (571117, 11)\n",
      "X_test: (244765, 11)\n",
      "New X_train: (228446, 11)\n",
      "New X_test: (587436, 11)\n",
      "           Precision  Recall   FP Rate  F1 Score\n",
      "Class 0     0.994100    1.00  0.000010  0.997041\n",
      "Class 1          NaN    0.00  0.000000       NaN\n",
      "Class 2     1.000000    1.00  0.000000  1.000000\n",
      "Class 3     1.000000    1.00  0.000000  1.000000\n",
      "Class 4     0.999702    1.00  0.000011  0.999851\n",
      "...              ...     ...       ...       ...\n",
      "Class 133   0.967213    1.00  0.000003  0.983333\n",
      "Class 134   1.000000    0.98  0.000000  0.989899\n",
      "Class 135   0.945205    1.00  0.000020  0.971831\n",
      "Class 136   1.000000    1.00  0.000000  1.000000\n",
      "Class 137   1.000000    1.00  0.000000  1.000000\n",
      "\n",
      "[138 rows x 4 columns]\n",
      "           Accuracy  Precision    Recall  FP Rate  F1 Score\n",
      "60% Boost  0.997196   0.696981  0.734269  0.00002  0.708833\n"
     ]
    }
   ],
   "source": [
    "# remove 60% of instance from X_train and y_train\n",
    "from sklearn.model_selection import train_test_split\n",
    "\n",
    "print('X_train: ', X_train.shape)\n",
    "print('X_test:', X_test.shape)\n",
    "\n",
    "X_train_new, X_test_add, y_train_new, y_test_add = train_test_split(X_train, y_train, test_size=0.6, random_state=42)\n",
    "\n",
    "X_test_60 = X_test\n",
    "y_test_60 = y_test.values\n",
    "# Add X_test_add and y_test_add to X_test and y_test\n",
    "X_test_new = np.concatenate((X_test_60, X_test_add), axis=0)\n",
    "y_test_new = np.concatenate((y_test_60, y_test_add), axis=0)\n",
    "\n",
    "print('New X_train:', X_train_new.shape)\n",
    "print('New X_test:', X_test_new.shape)\n",
    "\n",
    "dt.fit(X_train_new,y_train_new)\n",
    "y_pred_60 = dt.predict(X_test_new)\n",
    "\n",
    "print(class_metrics(y_test_new, y_pred_60, '60% Boost'))\n",
    "print(overall_metrics(y_test_new, y_pred_60, '60% Boost'))"
   ]
  },
  {
   "cell_type": "markdown",
   "metadata": {},
   "source": [
    "## Test Set 90% Boost"
   ]
  },
  {
   "cell_type": "code",
   "execution_count": 37,
   "metadata": {},
   "outputs": [
    {
     "name": "stdout",
     "output_type": "stream",
     "text": [
      "X_train:  (571117, 11)\n",
      "X_test: (244765, 11)\n",
      "New X_train: (57111, 11)\n",
      "New X_test: (758771, 11)\n",
      "           Precision    Recall   FP Rate  F1 Score\n",
      "Class 0     0.994652  1.000000  0.000009  0.997319\n",
      "Class 1          NaN  0.000000  0.000000       NaN\n",
      "Class 2     1.000000  1.000000  0.000000  1.000000\n",
      "Class 3     1.000000  1.000000  0.000000  1.000000\n",
      "Class 4     0.999769  1.000000  0.000008  0.999885\n",
      "...              ...       ...       ...       ...\n",
      "Class 133   0.554795  1.000000  0.000086  0.713656\n",
      "Class 134        NaN  0.000000  0.000000       NaN\n",
      "Class 135   0.964602  0.825758  0.000011  0.889796\n",
      "Class 136   0.419355  0.764706  0.000047  0.541667\n",
      "Class 137   1.000000  1.000000  0.000000  1.000000\n",
      "\n",
      "[138 rows x 4 columns]\n",
      "           Accuracy  Precision    Recall   FP Rate  F1 Score\n",
      "90% Boost  0.996475   0.644946  0.679393  0.000026  0.655837\n"
     ]
    }
   ],
   "source": [
    "# remove 90% of instance from X_train and y_train\n",
    "from sklearn.model_selection import train_test_split\n",
    "\n",
    "print('X_train: ', X_train.shape)\n",
    "print('X_test:', X_test.shape)\n",
    "\n",
    "X_train_new, X_test_add, y_train_new, y_test_add = train_test_split(X_train, y_train, test_size=0.9, random_state=42)\n",
    "\n",
    "X_test_90 = X_test\n",
    "y_test_90 = y_test.values\n",
    "# Add X_test_add and y_test_add to X_test and y_test\n",
    "X_test_new = np.concatenate((X_test_90, X_test_add), axis=0)\n",
    "y_test_new = np.concatenate((y_test_90, y_test_add), axis=0)\n",
    "\n",
    "print('New X_train:', X_train_new.shape)\n",
    "print('New X_test:', X_test_new.shape)\n",
    "\n",
    "dt.fit(X_train_new,y_train_new)\n",
    "y_pred_90 = dt.predict(X_test_new)\n",
    "\n",
    "print(class_metrics(y_test_new, y_pred_90, '90% Boost'))\n",
    "print(overall_metrics(y_test_new, y_pred_90, '90% Boost'))"
   ]
  },
  {
   "cell_type": "markdown",
   "metadata": {},
   "source": [
    "## Discussion on Test Boost Sets and Overfitting"
   ]
  },
  {
   "cell_type": "markdown",
   "metadata": {},
   "source": [
    "Analyse your results from the point of view of the problem of classifier over-fitting. Do you\n",
    "notice the effects of over-fitting? How? Note your conclusions in the Jupyter notebook."
   ]
  },
  {
   "cell_type": "markdown",
   "metadata": {},
   "source": [
    "## Additional Tree Classifier Studies"
   ]
  },
  {
   "cell_type": "markdown",
   "metadata": {},
   "source": [
    "For higher marks, try some other decision tree algorithms (e.g. random forests). Repeat all of the\n",
    "above experiments and make conclusions."
   ]
  },
  {
   "cell_type": "markdown",
   "metadata": {},
   "source": [
    "Decision Tree"
   ]
  },
  {
   "cell_type": "code",
   "execution_count": 17,
   "metadata": {},
   "outputs": [
    {
     "data": {
      "text/html": [
       "<div>\n",
       "<style scoped>\n",
       "    .dataframe tbody tr th:only-of-type {\n",
       "        vertical-align: middle;\n",
       "    }\n",
       "\n",
       "    .dataframe tbody tr th {\n",
       "        vertical-align: top;\n",
       "    }\n",
       "\n",
       "    .dataframe thead th {\n",
       "        text-align: right;\n",
       "    }\n",
       "</style>\n",
       "<table border=\"1\" class=\"dataframe\">\n",
       "  <thead>\n",
       "    <tr style=\"text-align: right;\">\n",
       "      <th></th>\n",
       "      <th>Accuracy</th>\n",
       "      <th>Precision</th>\n",
       "      <th>Recall</th>\n",
       "      <th>FP Rate</th>\n",
       "      <th>F1 Score</th>\n",
       "    </tr>\n",
       "  </thead>\n",
       "  <tbody>\n",
       "    <tr>\n",
       "      <th>Decision Tree</th>\n",
       "      <td>0.999628</td>\n",
       "      <td>0.981406</td>\n",
       "      <td>0.987908</td>\n",
       "      <td>0.000003</td>\n",
       "      <td>0.982582</td>\n",
       "    </tr>\n",
       "  </tbody>\n",
       "</table>\n",
       "</div>"
      ],
      "text/plain": [
       "               Accuracy  Precision    Recall   FP Rate  F1 Score\n",
       "Decision Tree  0.999628   0.981406  0.987908  0.000003  0.982582"
      ]
     },
     "execution_count": 17,
     "metadata": {},
     "output_type": "execute_result"
    }
   ],
   "source": [
    "# Fit the classifier to the training data\n",
    "dt.fit(X_train, y_train)\n",
    "# Make predictions on the test data\n",
    "y_pred_dt = dt.predict(X_test)\n",
    "overall_metrics(y_test, y_pred_dt, 'Decision Tree')"
   ]
  },
  {
   "cell_type": "markdown",
   "metadata": {},
   "source": [
    "Extra Tree"
   ]
  },
  {
   "cell_type": "code",
   "execution_count": 18,
   "metadata": {},
   "outputs": [
    {
     "data": {
      "text/html": [
       "<div>\n",
       "<style scoped>\n",
       "    .dataframe tbody tr th:only-of-type {\n",
       "        vertical-align: middle;\n",
       "    }\n",
       "\n",
       "    .dataframe tbody tr th {\n",
       "        vertical-align: top;\n",
       "    }\n",
       "\n",
       "    .dataframe thead th {\n",
       "        text-align: right;\n",
       "    }\n",
       "</style>\n",
       "<table border=\"1\" class=\"dataframe\">\n",
       "  <thead>\n",
       "    <tr style=\"text-align: right;\">\n",
       "      <th></th>\n",
       "      <th>Accuracy</th>\n",
       "      <th>Precision</th>\n",
       "      <th>Recall</th>\n",
       "      <th>FP Rate</th>\n",
       "      <th>F1 Score</th>\n",
       "    </tr>\n",
       "  </thead>\n",
       "  <tbody>\n",
       "    <tr>\n",
       "      <th>Extra Tree</th>\n",
       "      <td>0.846984</td>\n",
       "      <td>0.480728</td>\n",
       "      <td>0.462567</td>\n",
       "      <td>0.001125</td>\n",
       "      <td>0.469527</td>\n",
       "    </tr>\n",
       "  </tbody>\n",
       "</table>\n",
       "</div>"
      ],
      "text/plain": [
       "            Accuracy  Precision    Recall   FP Rate  F1 Score\n",
       "Extra Tree  0.846984   0.480728  0.462567  0.001125  0.469527"
      ]
     },
     "execution_count": 18,
     "metadata": {},
     "output_type": "execute_result"
    }
   ],
   "source": [
    "from sklearn.tree import ExtraTreeClassifier\n",
    "# Create an ExtraTreeClassifier instance\n",
    "extra_tree_classifier = ExtraTreeClassifier()\n",
    "# Fit the classifier to the training data\n",
    "extra_tree_classifier.fit(X_train, y_train)\n",
    "# Make predictions on the test data\n",
    "y_pred_extra_tree = extra_tree_classifier.predict(X_test)\n",
    "overall_metrics(y_test, y_pred_extra_tree, 'Extra Tree')"
   ]
  },
  {
   "cell_type": "markdown",
   "metadata": {},
   "source": [
    "Random Forest"
   ]
  },
  {
   "cell_type": "code",
   "execution_count": 12,
   "metadata": {},
   "outputs": [
    {
     "data": {
      "text/html": [
       "<div>\n",
       "<style scoped>\n",
       "    .dataframe tbody tr th:only-of-type {\n",
       "        vertical-align: middle;\n",
       "    }\n",
       "\n",
       "    .dataframe tbody tr th {\n",
       "        vertical-align: top;\n",
       "    }\n",
       "\n",
       "    .dataframe thead th {\n",
       "        text-align: right;\n",
       "    }\n",
       "</style>\n",
       "<table border=\"1\" class=\"dataframe\">\n",
       "  <thead>\n",
       "    <tr style=\"text-align: right;\">\n",
       "      <th></th>\n",
       "      <th>Accuracy</th>\n",
       "      <th>Precision</th>\n",
       "      <th>Recall</th>\n",
       "      <th>FP Rate</th>\n",
       "      <th>F1 Score</th>\n",
       "    </tr>\n",
       "  </thead>\n",
       "  <tbody>\n",
       "    <tr>\n",
       "      <th>Random Forest</th>\n",
       "      <td>0.979732</td>\n",
       "      <td>0.670073</td>\n",
       "      <td>0.544122</td>\n",
       "      <td>0.00015</td>\n",
       "      <td>0.570641</td>\n",
       "    </tr>\n",
       "  </tbody>\n",
       "</table>\n",
       "</div>"
      ],
      "text/plain": [
       "               Accuracy  Precision    Recall  FP Rate  F1 Score\n",
       "Random Forest  0.979732   0.670073  0.544122  0.00015  0.570641"
      ]
     },
     "execution_count": 12,
     "metadata": {},
     "output_type": "execute_result"
    }
   ],
   "source": [
    "from sklearn.ensemble import RandomForestClassifier\n",
    "# Create a RandomForestClassifier instance\n",
    "rf_classifier = RandomForestClassifier()\n",
    "# Fit the classifier to the training data\n",
    "rf_classifier.fit(X_train, y_train)\n",
    "# Make predictions on the test data\n",
    "y_pred_rf = rf_classifier.predict(X_test)\n",
    "overall_metrics(y_test, y_pred_rf, 'Random Forest')"
   ]
  },
  {
   "cell_type": "markdown",
   "metadata": {},
   "source": [
    "Ada Boost"
   ]
  },
  {
   "cell_type": "code",
   "execution_count": 22,
   "metadata": {},
   "outputs": [
    {
     "data": {
      "text/html": [
       "<div>\n",
       "<style scoped>\n",
       "    .dataframe tbody tr th:only-of-type {\n",
       "        vertical-align: middle;\n",
       "    }\n",
       "\n",
       "    .dataframe tbody tr th {\n",
       "        vertical-align: top;\n",
       "    }\n",
       "\n",
       "    .dataframe thead th {\n",
       "        text-align: right;\n",
       "    }\n",
       "</style>\n",
       "<table border=\"1\" class=\"dataframe\">\n",
       "  <thead>\n",
       "    <tr style=\"text-align: right;\">\n",
       "      <th></th>\n",
       "      <th>Accuracy</th>\n",
       "      <th>Precision</th>\n",
       "      <th>Recall</th>\n",
       "      <th>FP Rate</th>\n",
       "      <th>F1 Score</th>\n",
       "    </tr>\n",
       "  </thead>\n",
       "  <tbody>\n",
       "    <tr>\n",
       "      <th>AdaBoost</th>\n",
       "      <td>0.181905</td>\n",
       "      <td>0.02457</td>\n",
       "      <td>0.036764</td>\n",
       "      <td>0.00606</td>\n",
       "      <td>0.026318</td>\n",
       "    </tr>\n",
       "  </tbody>\n",
       "</table>\n",
       "</div>"
      ],
      "text/plain": [
       "          Accuracy  Precision    Recall  FP Rate  F1 Score\n",
       "AdaBoost  0.181905    0.02457  0.036764  0.00606  0.026318"
      ]
     },
     "execution_count": 22,
     "metadata": {},
     "output_type": "execute_result"
    }
   ],
   "source": [
    "from sklearn.ensemble import AdaBoostClassifier\n",
    "# Create an AdaBoostClassifier instance\n",
    "adaboost_classifier = AdaBoostClassifier()\n",
    "# Fit the classifier to the training data\n",
    "adaboost_classifier.fit(X_train, y_train)\n",
    "# Make predictions on the test data\n",
    "y_pred_adaboost = adaboost_classifier.predict(X_test)\n",
    "overall_metrics(y_test, y_pred_adaboost, 'AdaBoost')"
   ]
  },
  {
   "cell_type": "markdown",
   "metadata": {},
   "source": [
    "Bagging Classifier"
   ]
  },
  {
   "cell_type": "code",
   "execution_count": 13,
   "metadata": {},
   "outputs": [
    {
     "data": {
      "text/html": [
       "<div>\n",
       "<style scoped>\n",
       "    .dataframe tbody tr th:only-of-type {\n",
       "        vertical-align: middle;\n",
       "    }\n",
       "\n",
       "    .dataframe tbody tr th {\n",
       "        vertical-align: top;\n",
       "    }\n",
       "\n",
       "    .dataframe thead th {\n",
       "        text-align: right;\n",
       "    }\n",
       "</style>\n",
       "<table border=\"1\" class=\"dataframe\">\n",
       "  <thead>\n",
       "    <tr style=\"text-align: right;\">\n",
       "      <th></th>\n",
       "      <th>Accuracy</th>\n",
       "      <th>Precision</th>\n",
       "      <th>Recall</th>\n",
       "      <th>FP Rate</th>\n",
       "      <th>F1 Score</th>\n",
       "    </tr>\n",
       "  </thead>\n",
       "  <tbody>\n",
       "    <tr>\n",
       "      <th>Bagging</th>\n",
       "      <td>0.999665</td>\n",
       "      <td>0.969799</td>\n",
       "      <td>0.971039</td>\n",
       "      <td>0.000002</td>\n",
       "      <td>0.968966</td>\n",
       "    </tr>\n",
       "  </tbody>\n",
       "</table>\n",
       "</div>"
      ],
      "text/plain": [
       "         Accuracy  Precision    Recall   FP Rate  F1 Score\n",
       "Bagging  0.999665   0.969799  0.971039  0.000002  0.968966"
      ]
     },
     "execution_count": 13,
     "metadata": {},
     "output_type": "execute_result"
    }
   ],
   "source": [
    "from sklearn.ensemble import BaggingClassifier\n",
    "# Create a BaggingClassifier instance with DecisionTreeClassifier as base estimator\n",
    "bagging_classifier = BaggingClassifier(base_estimator=DecisionTreeClassifier())\n",
    "# Fit the classifier to the training data\n",
    "bagging_classifier.fit(X_train, y_train)\n",
    "# Make predictions on the test data\n",
    "y_pred_bagging = bagging_classifier.predict(X_test)\n",
    "overall_metrics(y_test, y_pred_bagging, 'Bagging')"
   ]
  },
  {
   "cell_type": "code",
   "execution_count": 23,
   "metadata": {},
   "outputs": [
    {
     "data": {
      "text/html": [
       "<div>\n",
       "<style scoped>\n",
       "    .dataframe tbody tr th:only-of-type {\n",
       "        vertical-align: middle;\n",
       "    }\n",
       "\n",
       "    .dataframe tbody tr th {\n",
       "        vertical-align: top;\n",
       "    }\n",
       "\n",
       "    .dataframe thead th {\n",
       "        text-align: right;\n",
       "    }\n",
       "</style>\n",
       "<table border=\"1\" class=\"dataframe\">\n",
       "  <thead>\n",
       "    <tr style=\"text-align: right;\">\n",
       "      <th></th>\n",
       "      <th>Accuracy</th>\n",
       "      <th>Precision</th>\n",
       "      <th>Recall</th>\n",
       "      <th>FP Rate</th>\n",
       "      <th>F1 Score</th>\n",
       "    </tr>\n",
       "  </thead>\n",
       "  <tbody>\n",
       "    <tr>\n",
       "      <th>Decision Tree</th>\n",
       "      <td>0.999628</td>\n",
       "      <td>0.981406</td>\n",
       "      <td>0.987908</td>\n",
       "      <td>0.000003</td>\n",
       "      <td>0.982582</td>\n",
       "    </tr>\n",
       "    <tr>\n",
       "      <th>Extra Tree</th>\n",
       "      <td>0.846984</td>\n",
       "      <td>0.480728</td>\n",
       "      <td>0.462567</td>\n",
       "      <td>0.001125</td>\n",
       "      <td>0.469527</td>\n",
       "    </tr>\n",
       "    <tr>\n",
       "      <th>Random Forest</th>\n",
       "      <td>0.979732</td>\n",
       "      <td>0.670073</td>\n",
       "      <td>0.544122</td>\n",
       "      <td>0.000150</td>\n",
       "      <td>0.570641</td>\n",
       "    </tr>\n",
       "    <tr>\n",
       "      <th>AdaBoost</th>\n",
       "      <td>0.181905</td>\n",
       "      <td>0.024570</td>\n",
       "      <td>0.036764</td>\n",
       "      <td>0.006060</td>\n",
       "      <td>0.026318</td>\n",
       "    </tr>\n",
       "    <tr>\n",
       "      <th>Bagging</th>\n",
       "      <td>0.999665</td>\n",
       "      <td>0.969799</td>\n",
       "      <td>0.971039</td>\n",
       "      <td>0.000002</td>\n",
       "      <td>0.968966</td>\n",
       "    </tr>\n",
       "  </tbody>\n",
       "</table>\n",
       "</div>"
      ],
      "text/plain": [
       "               Accuracy  Precision    Recall   FP Rate  F1 Score\n",
       "Decision Tree  0.999628   0.981406  0.987908  0.000003  0.982582\n",
       "Extra Tree     0.846984   0.480728  0.462567  0.001125  0.469527\n",
       "Random Forest  0.979732   0.670073  0.544122  0.000150  0.570641\n",
       "AdaBoost       0.181905   0.024570  0.036764  0.006060  0.026318\n",
       "Bagging        0.999665   0.969799  0.971039  0.000002  0.968966"
      ]
     },
     "execution_count": 23,
     "metadata": {},
     "output_type": "execute_result"
    }
   ],
   "source": [
    "# table of comparison\n",
    "metrics = [overall_metrics(y_test, y_pred_dt, 'Decision Tree'), overall_metrics(y_test, y_pred_extra_tree, 'Extra Tree'), overall_metrics(y_test, y_pred_rf, 'Random Forest'), overall_metrics(y_test, y_pred_adaboost, 'AdaBoost'), overall_metrics(y_test, y_pred_bagging, 'Bagging')]\n",
    "metrics = pd.concat(metrics)\n",
    "metrics"
   ]
  },
  {
   "cell_type": "markdown",
   "metadata": {},
   "source": [
    "Gradient Boosting (takes too long to run)"
   ]
  },
  {
   "cell_type": "code",
   "execution_count": null,
   "metadata": {},
   "outputs": [],
   "source": [
    "# from sklearn.ensemble import GradientBoostingClassifier\n",
    "# # Create a GradientBoostingClassifier instance\n",
    "# gb_classifier = GradientBoostingClassifier()\n",
    "# # Fit the classifier to the training data\n",
    "# gb_classifier.fit(X_train, y_train)\n",
    "# # Make predictions on the test data\n",
    "# y_pred_gb = gb_classifier.predict(X_test)"
   ]
  },
  {
   "cell_type": "markdown",
   "metadata": {},
   "source": [
    "Hist Gradient Boosting (also takes too long to run)"
   ]
  },
  {
   "cell_type": "code",
   "execution_count": null,
   "metadata": {},
   "outputs": [],
   "source": [
    "# from sklearn.experimental import enable_hist_gradient_boosting\n",
    "# from sklearn.ensemble import HistGradientBoostingClassifier\n",
    "\n",
    "# # Create a HistGradientBoostingClassifier instance\n",
    "# hist_gb_classifier = HistGradientBoostingClassifier()\n",
    "\n",
    "# # Fit the classifier to the training data\n",
    "# hist_gb_classifier.fit(X_train, y_train)\n",
    "\n",
    "# # Make predictions on the test data\n",
    "# y_pred_hist_gb = hist_gb_classifier.predict(X_test)"
   ]
  }
 ],
 "metadata": {
  "kernelspec": {
   "display_name": "base",
   "language": "python",
   "name": "python3"
  },
  "language_info": {
   "codemirror_mode": {
    "name": "ipython",
    "version": 3
   },
   "file_extension": ".py",
   "mimetype": "text/x-python",
   "name": "python",
   "nbconvert_exporter": "python",
   "pygments_lexer": "ipython3",
   "version": "3.11.4"
  }
 },
 "nbformat": 4,
 "nbformat_minor": 2
}
